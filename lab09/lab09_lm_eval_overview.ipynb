{
  "cells": [
    {
      "cell_type": "markdown",
      "metadata": {
        "id": "Qw83KAePAhaS"
      },
      "source": [
        "# Lab 09 - LLM Evaluation using lm-evaluation-harness"
      ]
    },
    {
      "cell_type": "code",
      "execution_count": 1,
      "metadata": {},
      "outputs": [
        {
          "data": {
            "text/html": [
              "<a target=\"_blank\" href=\"https://colab.research.google.com/github/surrey-nlp/NLP-2025/blob/main/lab09/lab09_lm_eval_overview.ipynb\"><img src=\"https://colab.research.google.com/assets/colab-badge.svg\" alt=\"Open In Colab\"/></a>"
            ],
            "text/plain": [
              "<IPython.core.display.HTML object>"
            ]
          },
          "metadata": {},
          "output_type": "display_data"
        }
      ],
      "source": [
        "from IPython.display import HTML, display\n",
        "colab_button = HTML(\n",
        "    '<a target=\"_blank\" href=\"https://colab.research.google.com/github/surrey-nlp/NLP-2025/blob/main/lab09/lab09_lm_eval_overview.ipynb\">'\n",
        "    '<img src=\"https://colab.research.google.com/assets/colab-badge.svg\" alt=\"Open In Colab\"/></a>'\n",
        ")\n",
        "display(colab_button)"
      ]
    },
    {
      "cell_type": "markdown",
      "metadata": {
        "id": "Z7k2vq1iAdqr"
      },
      "source": [
        "With the vast amount of work done in the LLM domain today, it helps to have a tool that people can use easily to share their results and use to check others to ensure reported numbers are valid. The LM Evaluation Harness is one such tool the community has used extensively. We want to continue to support the community and with that in mind, we’re excited to announce a major update on the LM Evaluation Harness to further our goal for open and accessible AI research.\n",
        "\n",
        "This library allows you to evaluate pre-trained language models on over 60 standard academic benchmarks, with hundreds of subtasks and variants implemented. Moreover, it has direct integration with Huggingface's datasets and Transformers APIs, making it extremely simple to use open source models and data for these evaluations."
      ]
    },
    {
      "cell_type": "markdown",
      "metadata": {
        "id": "zAov81vTbL2K"
      },
      "source": [
        "## Install LM-Eval"
      ]
    },
    {
      "cell_type": "code",
      "execution_count": 1,
      "metadata": {
        "colab": {
          "base_uri": "https://localhost:8080/"
        },
        "id": "8hiosGzq_qZg",
        "outputId": "04842e16-f4fc-47f9-8023-30ce352544fa"
      },
      "outputs": [
        {
          "name": "stdout",
          "output_type": "stream",
          "text": [
            "Collecting git+https://github.com/EleutherAI/lm-evaluation-harness.git\n",
            "  Cloning https://github.com/EleutherAI/lm-evaluation-harness.git to /tmp/pip-req-build-bb2o5s2x\n",
            "  Running command git clone --filter=blob:none --quiet https://github.com/EleutherAI/lm-evaluation-harness.git /tmp/pip-req-build-bb2o5s2x\n",
            "  Resolved https://github.com/EleutherAI/lm-evaluation-harness.git to commit 5a9d5ba0234493e1d67868d8b21ae37bf0e36bc2\n",
            "  Installing build dependencies ... \u001b[?25l\u001b[?25hdone\n",
            "  Getting requirements to build wheel ... \u001b[?25l\u001b[?25hdone\n",
            "  Preparing metadata (pyproject.toml) ... \u001b[?25l\u001b[?25hdone\n",
            "Requirement already satisfied: accelerate>=0.26.0 in /usr/local/lib/python3.11/dist-packages (from lm_eval==0.4.8) (1.5.2)\n",
            "Collecting evaluate (from lm_eval==0.4.8)\n",
            "  Downloading evaluate-0.4.3-py3-none-any.whl.metadata (9.2 kB)\n",
            "Collecting datasets>=2.16.0 (from lm_eval==0.4.8)\n",
            "  Downloading datasets-3.5.0-py3-none-any.whl.metadata (19 kB)\n",
            "Collecting jsonlines (from lm_eval==0.4.8)\n",
            "  Downloading jsonlines-4.0.0-py3-none-any.whl.metadata (1.6 kB)\n",
            "Requirement already satisfied: numexpr in /usr/local/lib/python3.11/dist-packages (from lm_eval==0.4.8) (2.10.2)\n",
            "Requirement already satisfied: peft>=0.2.0 in /usr/local/lib/python3.11/dist-packages (from lm_eval==0.4.8) (0.14.0)\n",
            "Collecting pybind11>=2.6.2 (from lm_eval==0.4.8)\n",
            "  Downloading pybind11-2.13.6-py3-none-any.whl.metadata (9.5 kB)\n",
            "Collecting pytablewriter (from lm_eval==0.4.8)\n",
            "  Downloading pytablewriter-1.2.1-py3-none-any.whl.metadata (38 kB)\n",
            "Collecting rouge-score>=0.0.4 (from lm_eval==0.4.8)\n",
            "  Downloading rouge_score-0.1.2.tar.gz (17 kB)\n",
            "  Preparing metadata (setup.py) ... \u001b[?25l\u001b[?25hdone\n",
            "Collecting sacrebleu>=1.5.0 (from lm_eval==0.4.8)\n",
            "  Downloading sacrebleu-2.5.1-py3-none-any.whl.metadata (51 kB)\n",
            "\u001b[2K     \u001b[90m━━━━━━━━━━━━━━━━━━━━━━━━━━━━━━━━━━━━━━━━\u001b[0m \u001b[32m51.8/51.8 kB\u001b[0m \u001b[31m3.4 MB/s\u001b[0m eta \u001b[36m0:00:00\u001b[0m\n",
            "\u001b[?25hRequirement already satisfied: scikit-learn>=0.24.1 in /usr/local/lib/python3.11/dist-packages (from lm_eval==0.4.8) (1.6.1)\n",
            "Collecting sqlitedict (from lm_eval==0.4.8)\n",
            "  Downloading sqlitedict-2.1.0.tar.gz (21 kB)\n",
            "  Preparing metadata (setup.py) ... \u001b[?25l\u001b[?25hdone\n",
            "Requirement already satisfied: torch>=1.8 in /usr/local/lib/python3.11/dist-packages (from lm_eval==0.4.8) (2.6.0+cu124)\n",
            "Collecting tqdm-multiprocess (from lm_eval==0.4.8)\n",
            "  Downloading tqdm_multiprocess-0.0.11-py3-none-any.whl.metadata (5.7 kB)\n",
            "Requirement already satisfied: transformers>=4.1 in /usr/local/lib/python3.11/dist-packages (from lm_eval==0.4.8) (4.50.0)\n",
            "Requirement already satisfied: zstandard in /usr/local/lib/python3.11/dist-packages (from lm_eval==0.4.8) (0.23.0)\n",
            "Collecting dill (from lm_eval==0.4.8)\n",
            "  Downloading dill-0.3.9-py3-none-any.whl.metadata (10 kB)\n",
            "Collecting word2number (from lm_eval==0.4.8)\n",
            "  Downloading word2number-1.1.zip (9.7 kB)\n",
            "  Preparing metadata (setup.py) ... \u001b[?25l\u001b[?25hdone\n",
            "Requirement already satisfied: more_itertools in /usr/local/lib/python3.11/dist-packages (from lm_eval==0.4.8) (10.6.0)\n",
            "Requirement already satisfied: numpy<3.0.0,>=1.17 in /usr/local/lib/python3.11/dist-packages (from accelerate>=0.26.0->lm_eval==0.4.8) (2.0.2)\n",
            "Requirement already satisfied: packaging>=20.0 in /usr/local/lib/python3.11/dist-packages (from accelerate>=0.26.0->lm_eval==0.4.8) (24.2)\n",
            "Requirement already satisfied: psutil in /usr/local/lib/python3.11/dist-packages (from accelerate>=0.26.0->lm_eval==0.4.8) (5.9.5)\n",
            "Requirement already satisfied: pyyaml in /usr/local/lib/python3.11/dist-packages (from accelerate>=0.26.0->lm_eval==0.4.8) (6.0.2)\n",
            "Requirement already satisfied: huggingface-hub>=0.21.0 in /usr/local/lib/python3.11/dist-packages (from accelerate>=0.26.0->lm_eval==0.4.8) (0.29.3)\n",
            "Requirement already satisfied: safetensors>=0.4.3 in /usr/local/lib/python3.11/dist-packages (from accelerate>=0.26.0->lm_eval==0.4.8) (0.5.3)\n",
            "Requirement already satisfied: filelock in /usr/local/lib/python3.11/dist-packages (from datasets>=2.16.0->lm_eval==0.4.8) (3.18.0)\n",
            "Requirement already satisfied: pyarrow>=15.0.0 in /usr/local/lib/python3.11/dist-packages (from datasets>=2.16.0->lm_eval==0.4.8) (18.1.0)\n",
            "Collecting dill (from lm_eval==0.4.8)\n",
            "  Downloading dill-0.3.8-py3-none-any.whl.metadata (10 kB)\n",
            "Requirement already satisfied: pandas in /usr/local/lib/python3.11/dist-packages (from datasets>=2.16.0->lm_eval==0.4.8) (2.2.2)\n",
            "Requirement already satisfied: requests>=2.32.2 in /usr/local/lib/python3.11/dist-packages (from datasets>=2.16.0->lm_eval==0.4.8) (2.32.3)\n",
            "Requirement already satisfied: tqdm>=4.66.3 in /usr/local/lib/python3.11/dist-packages (from datasets>=2.16.0->lm_eval==0.4.8) (4.67.1)\n",
            "Collecting xxhash (from datasets>=2.16.0->lm_eval==0.4.8)\n",
            "  Downloading xxhash-3.5.0-cp311-cp311-manylinux_2_17_x86_64.manylinux2014_x86_64.whl.metadata (12 kB)\n",
            "Collecting multiprocess<0.70.17 (from datasets>=2.16.0->lm_eval==0.4.8)\n",
            "  Downloading multiprocess-0.70.16-py311-none-any.whl.metadata (7.2 kB)\n",
            "Collecting fsspec<=2024.12.0,>=2023.1.0 (from fsspec[http]<=2024.12.0,>=2023.1.0->datasets>=2.16.0->lm_eval==0.4.8)\n",
            "  Downloading fsspec-2024.12.0-py3-none-any.whl.metadata (11 kB)\n",
            "Requirement already satisfied: aiohttp in /usr/local/lib/python3.11/dist-packages (from datasets>=2.16.0->lm_eval==0.4.8) (3.11.14)\n",
            "Requirement already satisfied: absl-py in /usr/local/lib/python3.11/dist-packages (from rouge-score>=0.0.4->lm_eval==0.4.8) (1.4.0)\n",
            "Requirement already satisfied: nltk in /usr/local/lib/python3.11/dist-packages (from rouge-score>=0.0.4->lm_eval==0.4.8) (3.9.1)\n",
            "Requirement already satisfied: six>=1.14.0 in /usr/local/lib/python3.11/dist-packages (from rouge-score>=0.0.4->lm_eval==0.4.8) (1.17.0)\n",
            "Collecting portalocker (from sacrebleu>=1.5.0->lm_eval==0.4.8)\n",
            "  Downloading portalocker-3.1.1-py3-none-any.whl.metadata (8.6 kB)\n",
            "Requirement already satisfied: regex in /usr/local/lib/python3.11/dist-packages (from sacrebleu>=1.5.0->lm_eval==0.4.8) (2024.11.6)\n",
            "Requirement already satisfied: tabulate>=0.8.9 in /usr/local/lib/python3.11/dist-packages (from sacrebleu>=1.5.0->lm_eval==0.4.8) (0.9.0)\n",
            "Collecting colorama (from sacrebleu>=1.5.0->lm_eval==0.4.8)\n",
            "  Downloading colorama-0.4.6-py2.py3-none-any.whl.metadata (17 kB)\n",
            "Requirement already satisfied: lxml in /usr/local/lib/python3.11/dist-packages (from sacrebleu>=1.5.0->lm_eval==0.4.8) (5.3.1)\n",
            "Requirement already satisfied: scipy>=1.6.0 in /usr/local/lib/python3.11/dist-packages (from scikit-learn>=0.24.1->lm_eval==0.4.8) (1.14.1)\n",
            "Requirement already satisfied: joblib>=1.2.0 in /usr/local/lib/python3.11/dist-packages (from scikit-learn>=0.24.1->lm_eval==0.4.8) (1.4.2)\n",
            "Requirement already satisfied: threadpoolctl>=3.1.0 in /usr/local/lib/python3.11/dist-packages (from scikit-learn>=0.24.1->lm_eval==0.4.8) (3.6.0)\n",
            "Requirement already satisfied: typing-extensions>=4.10.0 in /usr/local/lib/python3.11/dist-packages (from torch>=1.8->lm_eval==0.4.8) (4.12.2)\n",
            "Requirement already satisfied: networkx in /usr/local/lib/python3.11/dist-packages (from torch>=1.8->lm_eval==0.4.8) (3.4.2)\n",
            "Requirement already satisfied: jinja2 in /usr/local/lib/python3.11/dist-packages (from torch>=1.8->lm_eval==0.4.8) (3.1.6)\n",
            "Collecting nvidia-cuda-nvrtc-cu12==12.4.127 (from torch>=1.8->lm_eval==0.4.8)\n",
            "  Downloading nvidia_cuda_nvrtc_cu12-12.4.127-py3-none-manylinux2014_x86_64.whl.metadata (1.5 kB)\n",
            "Collecting nvidia-cuda-runtime-cu12==12.4.127 (from torch>=1.8->lm_eval==0.4.8)\n",
            "  Downloading nvidia_cuda_runtime_cu12-12.4.127-py3-none-manylinux2014_x86_64.whl.metadata (1.5 kB)\n",
            "Collecting nvidia-cuda-cupti-cu12==12.4.127 (from torch>=1.8->lm_eval==0.4.8)\n",
            "  Downloading nvidia_cuda_cupti_cu12-12.4.127-py3-none-manylinux2014_x86_64.whl.metadata (1.6 kB)\n",
            "Collecting nvidia-cudnn-cu12==9.1.0.70 (from torch>=1.8->lm_eval==0.4.8)\n",
            "  Downloading nvidia_cudnn_cu12-9.1.0.70-py3-none-manylinux2014_x86_64.whl.metadata (1.6 kB)\n",
            "Collecting nvidia-cublas-cu12==12.4.5.8 (from torch>=1.8->lm_eval==0.4.8)\n",
            "  Downloading nvidia_cublas_cu12-12.4.5.8-py3-none-manylinux2014_x86_64.whl.metadata (1.5 kB)\n",
            "Collecting nvidia-cufft-cu12==11.2.1.3 (from torch>=1.8->lm_eval==0.4.8)\n",
            "  Downloading nvidia_cufft_cu12-11.2.1.3-py3-none-manylinux2014_x86_64.whl.metadata (1.5 kB)\n",
            "Collecting nvidia-curand-cu12==10.3.5.147 (from torch>=1.8->lm_eval==0.4.8)\n",
            "  Downloading nvidia_curand_cu12-10.3.5.147-py3-none-manylinux2014_x86_64.whl.metadata (1.5 kB)\n",
            "Collecting nvidia-cusolver-cu12==11.6.1.9 (from torch>=1.8->lm_eval==0.4.8)\n",
            "  Downloading nvidia_cusolver_cu12-11.6.1.9-py3-none-manylinux2014_x86_64.whl.metadata (1.6 kB)\n",
            "Collecting nvidia-cusparse-cu12==12.3.1.170 (from torch>=1.8->lm_eval==0.4.8)\n",
            "  Downloading nvidia_cusparse_cu12-12.3.1.170-py3-none-manylinux2014_x86_64.whl.metadata (1.6 kB)\n",
            "Requirement already satisfied: nvidia-cusparselt-cu12==0.6.2 in /usr/local/lib/python3.11/dist-packages (from torch>=1.8->lm_eval==0.4.8) (0.6.2)\n",
            "Requirement already satisfied: nvidia-nccl-cu12==2.21.5 in /usr/local/lib/python3.11/dist-packages (from torch>=1.8->lm_eval==0.4.8) (2.21.5)\n",
            "Requirement already satisfied: nvidia-nvtx-cu12==12.4.127 in /usr/local/lib/python3.11/dist-packages (from torch>=1.8->lm_eval==0.4.8) (12.4.127)\n",
            "Collecting nvidia-nvjitlink-cu12==12.4.127 (from torch>=1.8->lm_eval==0.4.8)\n",
            "  Downloading nvidia_nvjitlink_cu12-12.4.127-py3-none-manylinux2014_x86_64.whl.metadata (1.5 kB)\n",
            "Requirement already satisfied: triton==3.2.0 in /usr/local/lib/python3.11/dist-packages (from torch>=1.8->lm_eval==0.4.8) (3.2.0)\n",
            "Requirement already satisfied: sympy==1.13.1 in /usr/local/lib/python3.11/dist-packages (from torch>=1.8->lm_eval==0.4.8) (1.13.1)\n",
            "Requirement already satisfied: mpmath<1.4,>=1.1.0 in /usr/local/lib/python3.11/dist-packages (from sympy==1.13.1->torch>=1.8->lm_eval==0.4.8) (1.3.0)\n",
            "Requirement already satisfied: tokenizers<0.22,>=0.21 in /usr/local/lib/python3.11/dist-packages (from transformers>=4.1->lm_eval==0.4.8) (0.21.1)\n",
            "Requirement already satisfied: attrs>=19.2.0 in /usr/local/lib/python3.11/dist-packages (from jsonlines->lm_eval==0.4.8) (25.3.0)\n",
            "Requirement already satisfied: setuptools>=38.3.0 in /usr/local/lib/python3.11/dist-packages (from pytablewriter->lm_eval==0.4.8) (75.1.0)\n",
            "Collecting DataProperty<2,>=1.1.0 (from pytablewriter->lm_eval==0.4.8)\n",
            "  Downloading DataProperty-1.1.0-py3-none-any.whl.metadata (11 kB)\n",
            "Collecting mbstrdecoder<2,>=1.0.0 (from pytablewriter->lm_eval==0.4.8)\n",
            "  Downloading mbstrdecoder-1.1.4-py3-none-any.whl.metadata (4.3 kB)\n",
            "Collecting pathvalidate<4,>=2.3.0 (from pytablewriter->lm_eval==0.4.8)\n",
            "  Downloading pathvalidate-3.2.3-py3-none-any.whl.metadata (12 kB)\n",
            "Collecting tabledata<2,>=1.3.1 (from pytablewriter->lm_eval==0.4.8)\n",
            "  Downloading tabledata-1.3.4-py3-none-any.whl.metadata (3.7 kB)\n",
            "Collecting tcolorpy<1,>=0.0.5 (from pytablewriter->lm_eval==0.4.8)\n",
            "  Downloading tcolorpy-0.1.7-py3-none-any.whl.metadata (6.3 kB)\n",
            "Collecting typepy<2,>=1.3.2 (from typepy[datetime]<2,>=1.3.2->pytablewriter->lm_eval==0.4.8)\n",
            "  Downloading typepy-1.3.4-py3-none-any.whl.metadata (9.2 kB)\n",
            "Requirement already satisfied: aiohappyeyeballs>=2.3.0 in /usr/local/lib/python3.11/dist-packages (from aiohttp->datasets>=2.16.0->lm_eval==0.4.8) (2.6.1)\n",
            "Requirement already satisfied: aiosignal>=1.1.2 in /usr/local/lib/python3.11/dist-packages (from aiohttp->datasets>=2.16.0->lm_eval==0.4.8) (1.3.2)\n",
            "Requirement already satisfied: frozenlist>=1.1.1 in /usr/local/lib/python3.11/dist-packages (from aiohttp->datasets>=2.16.0->lm_eval==0.4.8) (1.5.0)\n",
            "Requirement already satisfied: multidict<7.0,>=4.5 in /usr/local/lib/python3.11/dist-packages (from aiohttp->datasets>=2.16.0->lm_eval==0.4.8) (6.2.0)\n",
            "Requirement already satisfied: propcache>=0.2.0 in /usr/local/lib/python3.11/dist-packages (from aiohttp->datasets>=2.16.0->lm_eval==0.4.8) (0.3.0)\n",
            "Requirement already satisfied: yarl<2.0,>=1.17.0 in /usr/local/lib/python3.11/dist-packages (from aiohttp->datasets>=2.16.0->lm_eval==0.4.8) (1.18.3)\n",
            "Requirement already satisfied: chardet<6,>=3.0.4 in /usr/local/lib/python3.11/dist-packages (from mbstrdecoder<2,>=1.0.0->pytablewriter->lm_eval==0.4.8) (5.2.0)\n",
            "Requirement already satisfied: charset-normalizer<4,>=2 in /usr/local/lib/python3.11/dist-packages (from requests>=2.32.2->datasets>=2.16.0->lm_eval==0.4.8) (3.4.1)\n",
            "Requirement already satisfied: idna<4,>=2.5 in /usr/local/lib/python3.11/dist-packages (from requests>=2.32.2->datasets>=2.16.0->lm_eval==0.4.8) (3.10)\n",
            "Requirement already satisfied: urllib3<3,>=1.21.1 in /usr/local/lib/python3.11/dist-packages (from requests>=2.32.2->datasets>=2.16.0->lm_eval==0.4.8) (2.3.0)\n",
            "Requirement already satisfied: certifi>=2017.4.17 in /usr/local/lib/python3.11/dist-packages (from requests>=2.32.2->datasets>=2.16.0->lm_eval==0.4.8) (2025.1.31)\n",
            "Requirement already satisfied: python-dateutil<3.0.0,>=2.8.0 in /usr/local/lib/python3.11/dist-packages (from typepy[datetime]<2,>=1.3.2->pytablewriter->lm_eval==0.4.8) (2.8.2)\n",
            "Requirement already satisfied: pytz>=2018.9 in /usr/local/lib/python3.11/dist-packages (from typepy[datetime]<2,>=1.3.2->pytablewriter->lm_eval==0.4.8) (2025.1)\n",
            "Requirement already satisfied: MarkupSafe>=2.0 in /usr/local/lib/python3.11/dist-packages (from jinja2->torch>=1.8->lm_eval==0.4.8) (3.0.2)\n",
            "Requirement already satisfied: click in /usr/local/lib/python3.11/dist-packages (from nltk->rouge-score>=0.0.4->lm_eval==0.4.8) (8.1.8)\n",
            "Requirement already satisfied: tzdata>=2022.7 in /usr/local/lib/python3.11/dist-packages (from pandas->datasets>=2.16.0->lm_eval==0.4.8) (2025.1)\n",
            "Downloading datasets-3.5.0-py3-none-any.whl (491 kB)\n",
            "\u001b[2K   \u001b[90m━━━━━━━━━━━━━━━━━━━━━━━━━━━━━━━━━━━━━━━━\u001b[0m \u001b[32m491.2/491.2 kB\u001b[0m \u001b[31m14.0 MB/s\u001b[0m eta \u001b[36m0:00:00\u001b[0m\n",
            "\u001b[?25hDownloading dill-0.3.8-py3-none-any.whl (116 kB)\n",
            "\u001b[2K   \u001b[90m━━━━━━━━━━━━━━━━━━━━━━━━━━━━━━━━━━━━━━━━\u001b[0m \u001b[32m116.3/116.3 kB\u001b[0m \u001b[31m10.0 MB/s\u001b[0m eta \u001b[36m0:00:00\u001b[0m\n",
            "\u001b[?25hDownloading evaluate-0.4.3-py3-none-any.whl (84 kB)\n",
            "\u001b[2K   \u001b[90m━━━━━━━━━━━━━━━━━━━━━━━━━━━━━━━━━━━━━━━━\u001b[0m \u001b[32m84.0/84.0 kB\u001b[0m \u001b[31m6.3 MB/s\u001b[0m eta \u001b[36m0:00:00\u001b[0m\n",
            "\u001b[?25hDownloading pybind11-2.13.6-py3-none-any.whl (243 kB)\n",
            "\u001b[2K   \u001b[90m━━━━━━━━━━━━━━━━━━━━━━━━━━━━━━━━━━━━━━━━\u001b[0m \u001b[32m243.3/243.3 kB\u001b[0m \u001b[31m18.3 MB/s\u001b[0m eta \u001b[36m0:00:00\u001b[0m\n",
            "\u001b[?25hDownloading sacrebleu-2.5.1-py3-none-any.whl (104 kB)\n",
            "\u001b[2K   \u001b[90m━━━━━━━━━━━━━━━━━━━━━━━━━━━━━━━━━━━━━━━━\u001b[0m \u001b[32m104.1/104.1 kB\u001b[0m \u001b[31m9.5 MB/s\u001b[0m eta \u001b[36m0:00:00\u001b[0m\n",
            "\u001b[?25hDownloading nvidia_cublas_cu12-12.4.5.8-py3-none-manylinux2014_x86_64.whl (363.4 MB)\n",
            "\u001b[2K   \u001b[90m━━━━━━━━━━━━━━━━━━━━━━━━━━━━━━━━━━━━━━━━\u001b[0m \u001b[32m363.4/363.4 MB\u001b[0m \u001b[31m4.1 MB/s\u001b[0m eta \u001b[36m0:00:00\u001b[0m\n",
            "\u001b[?25hDownloading nvidia_cuda_cupti_cu12-12.4.127-py3-none-manylinux2014_x86_64.whl (13.8 MB)\n",
            "\u001b[2K   \u001b[90m━━━━━━━━━━━━━━━━━━━━━━━━━━━━━━━━━━━━━━━━\u001b[0m \u001b[32m13.8/13.8 MB\u001b[0m \u001b[31m111.2 MB/s\u001b[0m eta \u001b[36m0:00:00\u001b[0m\n",
            "\u001b[?25hDownloading nvidia_cuda_nvrtc_cu12-12.4.127-py3-none-manylinux2014_x86_64.whl (24.6 MB)\n",
            "\u001b[2K   \u001b[90m━━━━━━━━━━━━━━━━━━━━━━━━━━━━━━━━━━━━━━━━\u001b[0m \u001b[32m24.6/24.6 MB\u001b[0m \u001b[31m90.1 MB/s\u001b[0m eta \u001b[36m0:00:00\u001b[0m\n",
            "\u001b[?25hDownloading nvidia_cuda_runtime_cu12-12.4.127-py3-none-manylinux2014_x86_64.whl (883 kB)\n",
            "\u001b[2K   \u001b[90m━━━━━━━━━━━━━━━━━━━━━━━━━━━━━━━━━━━━━━━━\u001b[0m \u001b[32m883.7/883.7 kB\u001b[0m \u001b[31m51.9 MB/s\u001b[0m eta \u001b[36m0:00:00\u001b[0m\n",
            "\u001b[?25hDownloading nvidia_cudnn_cu12-9.1.0.70-py3-none-manylinux2014_x86_64.whl (664.8 MB)\n",
            "\u001b[2K   \u001b[90m━━━━━━━━━━━━━━━━━━━━━━━━━━━━━━━━━━━━━━━━\u001b[0m \u001b[32m664.8/664.8 MB\u001b[0m \u001b[31m1.6 MB/s\u001b[0m eta \u001b[36m0:00:00\u001b[0m\n",
            "\u001b[?25hDownloading nvidia_cufft_cu12-11.2.1.3-py3-none-manylinux2014_x86_64.whl (211.5 MB)\n",
            "\u001b[2K   \u001b[90m━━━━━━━━━━━━━━━━━━━━━━━━━━━━━━━━━━━━━━━━\u001b[0m \u001b[32m211.5/211.5 MB\u001b[0m \u001b[31m5.2 MB/s\u001b[0m eta \u001b[36m0:00:00\u001b[0m\n",
            "\u001b[?25hDownloading nvidia_curand_cu12-10.3.5.147-py3-none-manylinux2014_x86_64.whl (56.3 MB)\n",
            "\u001b[2K   \u001b[90m━━━━━━━━━━━━━━━━━━━━━━━━━━━━━━━━━━━━━━━━\u001b[0m \u001b[32m56.3/56.3 MB\u001b[0m \u001b[31m9.3 MB/s\u001b[0m eta \u001b[36m0:00:00\u001b[0m\n",
            "\u001b[?25hDownloading nvidia_cusolver_cu12-11.6.1.9-py3-none-manylinux2014_x86_64.whl (127.9 MB)\n",
            "\u001b[2K   \u001b[90m━━━━━━━━━━━━━━━━━━━━━━━━━━━━━━━━━━━━━━━━\u001b[0m \u001b[32m127.9/127.9 MB\u001b[0m \u001b[31m7.0 MB/s\u001b[0m eta \u001b[36m0:00:00\u001b[0m\n",
            "\u001b[?25hDownloading nvidia_cusparse_cu12-12.3.1.170-py3-none-manylinux2014_x86_64.whl (207.5 MB)\n",
            "\u001b[2K   \u001b[90m━━━━━━━━━━━━━━━━━━━━━━━━━━━━━━━━━━━━━━━━\u001b[0m \u001b[32m207.5/207.5 MB\u001b[0m \u001b[31m5.6 MB/s\u001b[0m eta \u001b[36m0:00:00\u001b[0m\n",
            "\u001b[?25hDownloading nvidia_nvjitlink_cu12-12.4.127-py3-none-manylinux2014_x86_64.whl (21.1 MB)\n",
            "\u001b[2K   \u001b[90m━━━━━━━━━━━━━━━━━━━━━━━━━━━━━━━━━━━━━━━━\u001b[0m \u001b[32m21.1/21.1 MB\u001b[0m \u001b[31m62.7 MB/s\u001b[0m eta \u001b[36m0:00:00\u001b[0m\n",
            "\u001b[?25hDownloading jsonlines-4.0.0-py3-none-any.whl (8.7 kB)\n",
            "Downloading pytablewriter-1.2.1-py3-none-any.whl (91 kB)\n",
            "\u001b[2K   \u001b[90m━━━━━━━━━━━━━━━━━━━━━━━━━━━━━━━━━━━━━━━━\u001b[0m \u001b[32m91.1/91.1 kB\u001b[0m \u001b[31m7.7 MB/s\u001b[0m eta \u001b[36m0:00:00\u001b[0m\n",
            "\u001b[?25hDownloading tqdm_multiprocess-0.0.11-py3-none-any.whl (9.8 kB)\n",
            "Downloading DataProperty-1.1.0-py3-none-any.whl (27 kB)\n",
            "Downloading fsspec-2024.12.0-py3-none-any.whl (183 kB)\n",
            "\u001b[2K   \u001b[90m━━━━━━━━━━━━━━━━━━━━━━━━━━━━━━━━━━━━━━━━\u001b[0m \u001b[32m183.9/183.9 kB\u001b[0m \u001b[31m15.1 MB/s\u001b[0m eta \u001b[36m0:00:00\u001b[0m\n",
            "\u001b[?25hDownloading mbstrdecoder-1.1.4-py3-none-any.whl (7.9 kB)\n",
            "Downloading multiprocess-0.70.16-py311-none-any.whl (143 kB)\n",
            "\u001b[2K   \u001b[90m━━━━━━━━━━━━━━━━━━━━━━━━━━━━━━━━━━━━━━━━\u001b[0m \u001b[32m143.5/143.5 kB\u001b[0m \u001b[31m11.0 MB/s\u001b[0m eta \u001b[36m0:00:00\u001b[0m\n",
            "\u001b[?25hDownloading pathvalidate-3.2.3-py3-none-any.whl (24 kB)\n",
            "Downloading tabledata-1.3.4-py3-none-any.whl (11 kB)\n",
            "Downloading tcolorpy-0.1.7-py3-none-any.whl (8.1 kB)\n",
            "Downloading typepy-1.3.4-py3-none-any.whl (31 kB)\n",
            "Downloading colorama-0.4.6-py2.py3-none-any.whl (25 kB)\n",
            "Downloading portalocker-3.1.1-py3-none-any.whl (19 kB)\n",
            "Downloading xxhash-3.5.0-cp311-cp311-manylinux_2_17_x86_64.manylinux2014_x86_64.whl (194 kB)\n",
            "\u001b[2K   \u001b[90m━━━━━━━━━━━━━━━━━━━━━━━━━━━━━━━━━━━━━━━━\u001b[0m \u001b[32m194.8/194.8 kB\u001b[0m \u001b[31m17.1 MB/s\u001b[0m eta \u001b[36m0:00:00\u001b[0m\n",
            "\u001b[?25hBuilding wheels for collected packages: lm_eval, rouge-score, sqlitedict, word2number\n",
            "  Building wheel for lm_eval (pyproject.toml) ... \u001b[?25l\u001b[?25hdone\n",
            "  Created wheel for lm_eval: filename=lm_eval-0.4.8-py3-none-any.whl size=5349764 sha256=a5dbd8d080158ed1bab87c6b4f5006ee0c4ff6f2a4953f9cb2208ee204eb0791\n",
            "  Stored in directory: /tmp/pip-ephem-wheel-cache-qvrl8ynr/wheels/14/4f/5c/a21f2eb9ccc91346023767a7fbab39d02217e68c93fc36cf7f\n",
            "  Building wheel for rouge-score (setup.py) ... \u001b[?25l\u001b[?25hdone\n",
            "  Created wheel for rouge-score: filename=rouge_score-0.1.2-py3-none-any.whl size=24935 sha256=fb501674807691f73bf26b7d93a29bf2e5dde603d4b47aa8981ff582bf457d56\n",
            "  Stored in directory: /root/.cache/pip/wheels/1e/19/43/8a442dc83660ca25e163e1bd1f89919284ab0d0c1475475148\n",
            "  Building wheel for sqlitedict (setup.py) ... \u001b[?25l\u001b[?25hdone\n",
            "  Created wheel for sqlitedict: filename=sqlitedict-2.1.0-py3-none-any.whl size=16864 sha256=4fceba5dd67fcb671d9ef56f617ad703afef3f0c565db40a431998303d79ca9e\n",
            "  Stored in directory: /root/.cache/pip/wheels/73/63/89/7210274f9b7fb033b8f22671f64c0e0b55083d30c3c046a3ff\n",
            "  Building wheel for word2number (setup.py) ... \u001b[?25l\u001b[?25hdone\n",
            "  Created wheel for word2number: filename=word2number-1.1-py3-none-any.whl size=5568 sha256=18fb6f8ed9e05691f99e30b2cee5b4e226d67d203c7d1fd0807ce279de5e2eca\n",
            "  Stored in directory: /root/.cache/pip/wheels/cd/ef/ae/073b491b14d25e2efafcffca9e16b2ee6d114ec5c643ba4f06\n",
            "Successfully built lm_eval rouge-score sqlitedict word2number\n",
            "Installing collected packages: word2number, sqlitedict, xxhash, tcolorpy, pybind11, portalocker, pathvalidate, nvidia-nvjitlink-cu12, nvidia-curand-cu12, nvidia-cufft-cu12, nvidia-cuda-runtime-cu12, nvidia-cuda-nvrtc-cu12, nvidia-cuda-cupti-cu12, nvidia-cublas-cu12, mbstrdecoder, jsonlines, fsspec, dill, colorama, typepy, tqdm-multiprocess, sacrebleu, rouge-score, nvidia-cusparse-cu12, nvidia-cudnn-cu12, multiprocess, nvidia-cusolver-cu12, datasets, DataProperty, tabledata, evaluate, pytablewriter, lm_eval\n",
            "  Attempting uninstall: nvidia-nvjitlink-cu12\n",
            "    Found existing installation: nvidia-nvjitlink-cu12 12.5.82\n",
            "    Uninstalling nvidia-nvjitlink-cu12-12.5.82:\n",
            "      Successfully uninstalled nvidia-nvjitlink-cu12-12.5.82\n",
            "  Attempting uninstall: nvidia-curand-cu12\n",
            "    Found existing installation: nvidia-curand-cu12 10.3.6.82\n",
            "    Uninstalling nvidia-curand-cu12-10.3.6.82:\n",
            "      Successfully uninstalled nvidia-curand-cu12-10.3.6.82\n",
            "  Attempting uninstall: nvidia-cufft-cu12\n",
            "    Found existing installation: nvidia-cufft-cu12 11.2.3.61\n",
            "    Uninstalling nvidia-cufft-cu12-11.2.3.61:\n",
            "      Successfully uninstalled nvidia-cufft-cu12-11.2.3.61\n",
            "  Attempting uninstall: nvidia-cuda-runtime-cu12\n",
            "    Found existing installation: nvidia-cuda-runtime-cu12 12.5.82\n",
            "    Uninstalling nvidia-cuda-runtime-cu12-12.5.82:\n",
            "      Successfully uninstalled nvidia-cuda-runtime-cu12-12.5.82\n",
            "  Attempting uninstall: nvidia-cuda-nvrtc-cu12\n",
            "    Found existing installation: nvidia-cuda-nvrtc-cu12 12.5.82\n",
            "    Uninstalling nvidia-cuda-nvrtc-cu12-12.5.82:\n",
            "      Successfully uninstalled nvidia-cuda-nvrtc-cu12-12.5.82\n",
            "  Attempting uninstall: nvidia-cuda-cupti-cu12\n",
            "    Found existing installation: nvidia-cuda-cupti-cu12 12.5.82\n",
            "    Uninstalling nvidia-cuda-cupti-cu12-12.5.82:\n",
            "      Successfully uninstalled nvidia-cuda-cupti-cu12-12.5.82\n",
            "  Attempting uninstall: nvidia-cublas-cu12\n",
            "    Found existing installation: nvidia-cublas-cu12 12.5.3.2\n",
            "    Uninstalling nvidia-cublas-cu12-12.5.3.2:\n",
            "      Successfully uninstalled nvidia-cublas-cu12-12.5.3.2\n",
            "  Attempting uninstall: fsspec\n",
            "    Found existing installation: fsspec 2025.3.0\n",
            "    Uninstalling fsspec-2025.3.0:\n",
            "      Successfully uninstalled fsspec-2025.3.0\n",
            "  Attempting uninstall: nvidia-cusparse-cu12\n",
            "    Found existing installation: nvidia-cusparse-cu12 12.5.1.3\n",
            "    Uninstalling nvidia-cusparse-cu12-12.5.1.3:\n",
            "      Successfully uninstalled nvidia-cusparse-cu12-12.5.1.3\n",
            "  Attempting uninstall: nvidia-cudnn-cu12\n",
            "    Found existing installation: nvidia-cudnn-cu12 9.3.0.75\n",
            "    Uninstalling nvidia-cudnn-cu12-9.3.0.75:\n",
            "      Successfully uninstalled nvidia-cudnn-cu12-9.3.0.75\n",
            "  Attempting uninstall: nvidia-cusolver-cu12\n",
            "    Found existing installation: nvidia-cusolver-cu12 11.6.3.83\n",
            "    Uninstalling nvidia-cusolver-cu12-11.6.3.83:\n",
            "      Successfully uninstalled nvidia-cusolver-cu12-11.6.3.83\n",
            "\u001b[31mERROR: pip's dependency resolver does not currently take into account all the packages that are installed. This behaviour is the source of the following dependency conflicts.\n",
            "gcsfs 2025.3.0 requires fsspec==2025.3.0, but you have fsspec 2024.12.0 which is incompatible.\u001b[0m\u001b[31m\n",
            "\u001b[0mSuccessfully installed DataProperty-1.1.0 colorama-0.4.6 datasets-3.5.0 dill-0.3.8 evaluate-0.4.3 fsspec-2024.12.0 jsonlines-4.0.0 lm_eval-0.4.8 mbstrdecoder-1.1.4 multiprocess-0.70.16 nvidia-cublas-cu12-12.4.5.8 nvidia-cuda-cupti-cu12-12.4.127 nvidia-cuda-nvrtc-cu12-12.4.127 nvidia-cuda-runtime-cu12-12.4.127 nvidia-cudnn-cu12-9.1.0.70 nvidia-cufft-cu12-11.2.1.3 nvidia-curand-cu12-10.3.5.147 nvidia-cusolver-cu12-11.6.1.9 nvidia-cusparse-cu12-12.3.1.170 nvidia-nvjitlink-cu12-12.4.127 pathvalidate-3.2.3 portalocker-3.1.1 pybind11-2.13.6 pytablewriter-1.2.1 rouge-score-0.1.2 sacrebleu-2.5.1 sqlitedict-2.1.0 tabledata-1.3.4 tcolorpy-0.1.7 tqdm-multiprocess-0.0.11 typepy-1.3.4 word2number-1.1 xxhash-3.5.0\n"
          ]
        }
      ],
      "source": [
        "# Install LM-Eval\n",
        "!pip install git+https://github.com/EleutherAI/lm-evaluation-harness.git"
      ]
    },
    {
      "cell_type": "code",
      "execution_count": 2,
      "metadata": {
        "id": "uyO5MaKkZyah"
      },
      "outputs": [],
      "source": [
        "from lm_eval import api"
      ]
    },
    {
      "cell_type": "markdown",
      "metadata": {
        "id": "8rfUeX6n_wkK"
      },
      "source": [
        "## Create new evaluation tasks with config-based tasks\n",
        "\n",
        "Even within the same task, many works have reported numbers based on different choices of evaluation. Some report on the test sets, validation sets, or even subset of the training sets. Others have specialized prompts and verbalizers. We introduce YAMLs to allow users to easily make different variations. By leveraging the YAML configs to configure evaluations, the refactored LM-Eval takes the methods of the `Task` object and makes them configurable by setting the appropriate attributes in the config file. There, users can set the tasks they want by setting the name of the HF dataset (local tasks are also possible), the dataset splits used, and much more. Key configurations relating to prompting, such as `doc_to_text`, previously implemented as a method of the same name, are now configurable with jinja2 to allow high-level scripting to transform a HF dataset to text string as input to the model.\n",
        "\n"
      ]
    },
    {
      "cell_type": "markdown",
      "metadata": {
        "id": "HYFUhhfOSJKe"
      },
      "source": [
        "A core-feature to LM-Eval is to configure tasks with YAML configs. With configs, you can fill preset fields to easily set up a task.\n",
        "\n",
        "Here, we will first use the task of hate detection (https://huggingface.co/datasets/dipteshkanojia/implicit_hate) as an example on two well known state of the art architectures. This will allow us to evaluate how biased the pre-training of these models are w.r.t identifying hate speech."
      ]
    },
    {
      "cell_type": "code",
      "execution_count": 3,
      "metadata": {
        "id": "DdtJNbBiv9r2"
      },
      "outputs": [],
      "source": [
        "YAML_imhc_string = '''\n",
        "task: implicit_hate_classification\n",
        "dataset_path: dipteshkanojia/implicit_hate\n",
        "output_type: multiple_choice\n",
        "fewshot_split: validation\n",
        "test_split: test\n",
        "doc_to_text: \"Statement: {{text}}\"\n",
        "doc_to_target: label\n",
        "doc_to_choice: [\"neutral\", \"hate\"]\n",
        "'''\n",
        "with open('implicit-hate.yaml', 'w') as f:\n",
        "    f.write(YAML_imhc_string)"
      ]
    },
    {
      "cell_type": "markdown",
      "metadata": {
        "id": "dTnDZZTu2Foe"
      },
      "source": [
        "### Zero-shot classification on the Implicit Hate Dataset using distilgpt2 model"
      ]
    },
    {
      "cell_type": "markdown",
      "metadata": {
        "id": "MLZckr5uFFCC"
      },
      "source": [
        "To start out, we will use DistilGPT to perform zero-shot/few-shot classification on the previously mentioned dataset.\n",
        "Zero-shot refers to the process of evaluating a pre-trained network on a dataset without any prior training on it, while in few-shot set-ups the models are allowed to see a really small subset of samples before testing. This would ensure that we keep the all/most of the knowledge gained during pre-training without biasing the architecture to our evaluation benchmark."
      ]
    },
    {
      "cell_type": "code",
      "execution_count": null,
      "metadata": {
        "id": "xjxv2j4d-ehc"
      },
      "outputs": [],
      "source": [
        "# !lm-eval --tasks list"
      ]
    },
    {
      "cell_type": "code",
      "execution_count": 4,
      "metadata": {
        "colab": {
          "base_uri": "https://localhost:8080/"
        },
        "id": "A-MVctuX2Dg1",
        "outputId": "9492a384-7065-4e55-edcf-4d25151c096c"
      },
      "outputs": [
        {
          "name": "stdout",
          "output_type": "stream",
          "text": [
            "2025-03-28 12:07:46.684265: E external/local_xla/xla/stream_executor/cuda/cuda_fft.cc:477] Unable to register cuFFT factory: Attempting to register factory for plugin cuFFT when one has already been registered\n",
            "WARNING: All log messages before absl::InitializeLog() is called are written to STDERR\n",
            "E0000 00:00:1743163666.705767    1735 cuda_dnn.cc:8310] Unable to register cuDNN factory: Attempting to register factory for plugin cuDNN when one has already been registered\n",
            "E0000 00:00:1743163666.712428    1735 cuda_blas.cc:1418] Unable to register cuBLAS factory: Attempting to register factory for plugin cuBLAS when one has already been registered\n",
            "2025-03-28:12:07:50 INFO     [__main__:338] Including path: ./\n",
            "2025-03-28:12:07:53 WARNING  [__main__:359]  --limit SHOULD ONLY BE USED FOR TESTING.REAL METRICS SHOULD NOT BE COMPUTED USING LIMIT.\n",
            "2025-03-28:12:07:53 INFO     [__main__:422] Selected Tasks: ['implicit_hate_classification']\n",
            "2025-03-28:12:07:53 INFO     [evaluator:180] Setting random seed to 0 | Setting numpy seed to 1234 | Setting torch manual seed to 1234 | Setting fewshot manual seed to 1234\n",
            "2025-03-28:12:07:53 INFO     [evaluator:218] Initializing hf model, with arguments: {'pretrained': 'distilbert/distilgpt2'}\n",
            "2025-03-28:12:07:53 INFO     [models.huggingface:136] Using device 'cuda'\n",
            "config.json: 100% 762/762 [00:00<00:00, 5.45MB/s]\n",
            "tokenizer_config.json: 100% 26.0/26.0 [00:00<00:00, 196kB/s]\n",
            "vocab.json: 100% 1.04M/1.04M [00:00<00:00, 24.3MB/s]\n",
            "merges.txt: 100% 456k/456k [00:00<00:00, 3.14MB/s]\n",
            "tokenizer.json: 100% 1.36M/1.36M [00:00<00:00, 4.70MB/s]\n",
            "2025-03-28:12:07:56 INFO     [models.huggingface:377] Model parallel was set to False, max memory was not set, and device map was set to {'': 'cuda'}\n",
            "model.safetensors: 100% 353M/353M [00:01<00:00, 249MB/s]\n",
            "generation_config.json: 100% 124/124 [00:00<00:00, 978kB/s]\n",
            "README.md: 100% 21.0/21.0 [00:00<00:00, 73.0kB/s]\n",
            "validation.json: 100% 2.03k/2.03k [00:00<00:00, 13.5MB/s]\n",
            "test.json: 100% 3.31M/3.31M [00:00<00:00, 19.5MB/s]\n",
            "Generating validation split: 100% 9/9 [00:00<00:00, 143.86 examples/s]\n",
            "Generating test split: 100% 14191/14191 [00:00<00:00, 202031.02 examples/s]\n",
            "2025-03-28:12:08:01 INFO     [api.task:426] Building contexts for implicit_hate_classification on rank 0...\n",
            "100% 10/10 [00:00<00:00, 2391.01it/s]\n",
            "2025-03-28:12:08:01 INFO     [evaluator:542] Running loglikelihood requests\n",
            "Running loglikelihood requests: 100% 20/20 [00:00<00:00, 26.90it/s]\n",
            "fatal: not a git repository (or any of the parent directories): .git\n",
            "2025-03-28:12:08:04 INFO     [loggers.evaluation_tracker:272] Output path not provided, skipping saving results aggregated\n",
            "hf (pretrained=distilbert/distilgpt2), gen_kwargs: (None), limit: 10.0, num_fewshot: None, batch_size: 1\n",
            "|           Tasks            |Version|Filter|n-shot| Metric |   |Value|   |Stderr|\n",
            "|----------------------------|-------|------|-----:|--------|---|----:|---|-----:|\n",
            "|implicit_hate_classification|Yaml   |none  |     0|acc     |↑  |  0.9|±  |   0.1|\n",
            "|                            |       |none  |     0|acc_norm|↑  |  0.1|±  |   0.1|\n",
            "\n"
          ]
        }
      ],
      "source": [
        "!lm_eval \\\n",
        "    --model hf \\\n",
        "    --model_args pretrained=distilbert/distilgpt2 \\\n",
        "    --include_path ./ \\\n",
        "    --tasks implicit_hate_classification \\\n",
        "    --limit 10"
      ]
    },
    {
      "cell_type": "markdown",
      "metadata": {
        "id": "Bas_-kNP2PfE"
      },
      "source": [
        "### Few-shot (5-shot) classification on the Implicit Hate Dataset using distilgpt2 model"
      ]
    },
    {
      "cell_type": "code",
      "execution_count": 5,
      "metadata": {
        "colab": {
          "base_uri": "https://localhost:8080/"
        },
        "id": "4jN_wDCxzDcS",
        "outputId": "5fb30eeb-8b8f-46de-a5b2-a21819e21ebb"
      },
      "outputs": [
        {
          "name": "stdout",
          "output_type": "stream",
          "text": [
            "2025-03-28 12:08:13.466666: E external/local_xla/xla/stream_executor/cuda/cuda_fft.cc:477] Unable to register cuFFT factory: Attempting to register factory for plugin cuFFT when one has already been registered\n",
            "WARNING: All log messages before absl::InitializeLog() is called are written to STDERR\n",
            "E0000 00:00:1743163693.487821    1895 cuda_dnn.cc:8310] Unable to register cuDNN factory: Attempting to register factory for plugin cuDNN when one has already been registered\n",
            "E0000 00:00:1743163693.494259    1895 cuda_blas.cc:1418] Unable to register cuBLAS factory: Attempting to register factory for plugin cuBLAS when one has already been registered\n",
            "2025-03-28:12:08:17 INFO     [__main__:338] Including path: ./\n",
            "2025-03-28:12:08:20 WARNING  [__main__:359]  --limit SHOULD ONLY BE USED FOR TESTING.REAL METRICS SHOULD NOT BE COMPUTED USING LIMIT.\n",
            "2025-03-28:12:08:20 INFO     [__main__:422] Selected Tasks: ['implicit_hate_classification']\n",
            "2025-03-28:12:08:20 INFO     [evaluator:180] Setting random seed to 0 | Setting numpy seed to 1234 | Setting torch manual seed to 1234 | Setting fewshot manual seed to 1234\n",
            "2025-03-28:12:08:20 INFO     [evaluator:218] Initializing hf model, with arguments: {'pretrained': 'distilbert/distilgpt2'}\n",
            "2025-03-28:12:08:20 INFO     [models.huggingface:136] Using device 'cuda'\n",
            "2025-03-28:12:08:21 INFO     [models.huggingface:377] Model parallel was set to False, max memory was not set, and device map was set to {'': 'cuda'}\n",
            "2025-03-28:12:08:22 WARNING  [evaluator:300] Overwriting default num_fewshot of implicit_hate_classification from None to 5\n",
            "2025-03-28:12:08:22 INFO     [api.task:426] Building contexts for implicit_hate_classification on rank 0...\n",
            "100% 10/10 [00:00<00:00, 488.59it/s]\n",
            "2025-03-28:12:08:22 INFO     [evaluator:542] Running loglikelihood requests\n",
            "Running loglikelihood requests: 100% 20/20 [00:00<00:00, 63.17it/s]\n",
            "fatal: not a git repository (or any of the parent directories): .git\n",
            "2025-03-28:12:08:24 INFO     [loggers.evaluation_tracker:272] Output path not provided, skipping saving results aggregated\n",
            "hf (pretrained=distilbert/distilgpt2), gen_kwargs: (None), limit: 10.0, num_fewshot: 5, batch_size: 1\n",
            "|           Tasks            |Version|Filter|n-shot| Metric |   |Value|   |Stderr|\n",
            "|----------------------------|-------|------|-----:|--------|---|----:|---|-----:|\n",
            "|implicit_hate_classification|Yaml   |none  |     5|acc     |↑  |  0.9|±  |0.1000|\n",
            "|                            |       |none  |     5|acc_norm|↑  |  0.4|±  |0.1633|\n",
            "\n"
          ]
        }
      ],
      "source": [
        "!lm_eval \\\n",
        "    --model hf \\\n",
        "    --model_args pretrained=distilbert/distilgpt2 \\\n",
        "    --num_fewshot 5 \\\n",
        "    --include_path ./ \\\n",
        "    --tasks implicit_hate_classification \\\n",
        "    --limit 10"
      ]
    },
    {
      "cell_type": "markdown",
      "metadata": {
        "id": "YxBD-5CD4Jxt"
      },
      "source": [
        "### Zero-shot classification on the Implicit Hate Dataset using GPT-Neo-1.3B model"
      ]
    },
    {
      "cell_type": "markdown",
      "metadata": {
        "id": "Mqafi9ovGXBp"
      },
      "source": [
        "Let's repeat the process using another well-known LLM i.e. GPT-Neo"
      ]
    },
    {
      "cell_type": "code",
      "execution_count": 6,
      "metadata": {
        "colab": {
          "base_uri": "https://localhost:8080/"
        },
        "id": "Ura9W1ok3gwm",
        "outputId": "d9891d05-02cc-4b9e-fa95-7c16391a0d2d"
      },
      "outputs": [
        {
          "name": "stdout",
          "output_type": "stream",
          "text": [
            "2025-03-28 12:08:33.229390: E external/local_xla/xla/stream_executor/cuda/cuda_fft.cc:477] Unable to register cuFFT factory: Attempting to register factory for plugin cuFFT when one has already been registered\n",
            "WARNING: All log messages before absl::InitializeLog() is called are written to STDERR\n",
            "E0000 00:00:1743163713.249921    2033 cuda_dnn.cc:8310] Unable to register cuDNN factory: Attempting to register factory for plugin cuDNN when one has already been registered\n",
            "E0000 00:00:1743163713.255963    2033 cuda_blas.cc:1418] Unable to register cuBLAS factory: Attempting to register factory for plugin cuBLAS when one has already been registered\n",
            "2025-03-28:12:08:37 INFO     [__main__:338] Including path: ./\n",
            "2025-03-28:12:08:39 WARNING  [__main__:359]  --limit SHOULD ONLY BE USED FOR TESTING.REAL METRICS SHOULD NOT BE COMPUTED USING LIMIT.\n",
            "2025-03-28:12:08:39 INFO     [__main__:422] Selected Tasks: ['implicit_hate_classification']\n",
            "2025-03-28:12:08:39 INFO     [evaluator:180] Setting random seed to 0 | Setting numpy seed to 1234 | Setting torch manual seed to 1234 | Setting fewshot manual seed to 1234\n",
            "2025-03-28:12:08:39 INFO     [evaluator:218] Initializing hf model, with arguments: {'pretrained': 'EleutherAI/gpt-neo-1.3B'}\n",
            "2025-03-28:12:08:39 INFO     [models.huggingface:136] Using device 'cuda'\n",
            "config.json: 100% 1.35k/1.35k [00:00<00:00, 10.7MB/s]\n",
            "tokenizer_config.json: 100% 200/200 [00:00<00:00, 1.84MB/s]\n",
            "vocab.json: 100% 798k/798k [00:00<00:00, 10.9MB/s]\n",
            "merges.txt: 100% 456k/456k [00:00<00:00, 6.19MB/s]\n",
            "special_tokens_map.json: 100% 90.0/90.0 [00:00<00:00, 710kB/s]\n",
            "2025-03-28:12:08:41 INFO     [models.huggingface:377] Model parallel was set to False, max memory was not set, and device map was set to {'': 'cuda'}\n",
            "model.safetensors: 100% 5.31G/5.31G [00:21<00:00, 250MB/s]\n",
            "2025-03-28:12:09:26 INFO     [api.task:426] Building contexts for implicit_hate_classification on rank 0...\n",
            "100% 10/10 [00:00<00:00, 2096.84it/s]\n",
            "2025-03-28:12:09:26 INFO     [evaluator:542] Running loglikelihood requests\n",
            "Running loglikelihood requests: 100% 20/20 [00:00<00:00, 22.61it/s]\n",
            "fatal: not a git repository (or any of the parent directories): .git\n",
            "2025-03-28:12:09:29 INFO     [loggers.evaluation_tracker:272] Output path not provided, skipping saving results aggregated\n",
            "hf (pretrained=EleutherAI/gpt-neo-1.3B), gen_kwargs: (None), limit: 10.0, num_fewshot: None, batch_size: 1\n",
            "|           Tasks            |Version|Filter|n-shot| Metric |   |Value|   |Stderr|\n",
            "|----------------------------|-------|------|-----:|--------|---|----:|---|-----:|\n",
            "|implicit_hate_classification|Yaml   |none  |     0|acc     |↑  |  0.8|±  |0.1333|\n",
            "|                            |       |none  |     0|acc_norm|↑  |  0.1|±  |0.1000|\n",
            "\n"
          ]
        }
      ],
      "source": [
        "!lm_eval \\\n",
        "    --model hf \\\n",
        "    --model_args pretrained=EleutherAI/gpt-neo-1.3B \\\n",
        "    --include_path ./ \\\n",
        "    --tasks implicit_hate_classification \\\n",
        "    --limit 10"
      ]
    },
    {
      "cell_type": "markdown",
      "metadata": {
        "id": "bjnOQOyg4UGE"
      },
      "source": [
        "### Few-shot (5-shot) classification on the Implicit Hate Dataset using GPT-Neo-1.3B model"
      ]
    },
    {
      "cell_type": "code",
      "execution_count": 7,
      "metadata": {
        "colab": {
          "base_uri": "https://localhost:8080/"
        },
        "id": "JChhScM64XOx",
        "outputId": "8ada6c5f-5367-4ab9-cd4c-ad67761281be"
      },
      "outputs": [
        {
          "name": "stdout",
          "output_type": "stream",
          "text": [
            "2025-03-28 12:09:38.438701: E external/local_xla/xla/stream_executor/cuda/cuda_fft.cc:477] Unable to register cuFFT factory: Attempting to register factory for plugin cuFFT when one has already been registered\n",
            "WARNING: All log messages before absl::InitializeLog() is called are written to STDERR\n",
            "E0000 00:00:1743163778.459287    2357 cuda_dnn.cc:8310] Unable to register cuDNN factory: Attempting to register factory for plugin cuDNN when one has already been registered\n",
            "E0000 00:00:1743163778.465393    2357 cuda_blas.cc:1418] Unable to register cuBLAS factory: Attempting to register factory for plugin cuBLAS when one has already been registered\n",
            "2025-03-28:12:09:42 INFO     [__main__:338] Including path: ./\n",
            "2025-03-28:12:09:46 WARNING  [__main__:359]  --limit SHOULD ONLY BE USED FOR TESTING.REAL METRICS SHOULD NOT BE COMPUTED USING LIMIT.\n",
            "2025-03-28:12:09:46 INFO     [__main__:422] Selected Tasks: ['implicit_hate_classification']\n",
            "2025-03-28:12:09:46 INFO     [evaluator:180] Setting random seed to 0 | Setting numpy seed to 1234 | Setting torch manual seed to 1234 | Setting fewshot manual seed to 1234\n",
            "2025-03-28:12:09:46 INFO     [evaluator:218] Initializing hf model, with arguments: {'pretrained': 'EleutherAI/gpt-neo-1.3B'}\n",
            "2025-03-28:12:09:46 INFO     [models.huggingface:136] Using device 'cuda'\n",
            "2025-03-28:12:09:46 INFO     [models.huggingface:377] Model parallel was set to False, max memory was not set, and device map was set to {'': 'cuda'}\n",
            "2025-03-28:12:10:00 WARNING  [evaluator:300] Overwriting default num_fewshot of implicit_hate_classification from None to 5\n",
            "2025-03-28:12:10:00 INFO     [api.task:426] Building contexts for implicit_hate_classification on rank 0...\n",
            "100% 10/10 [00:00<00:00, 445.85it/s]\n",
            "2025-03-28:12:10:00 INFO     [evaluator:542] Running loglikelihood requests\n",
            "Running loglikelihood requests: 100% 20/20 [00:01<00:00, 12.03it/s]\n",
            "fatal: not a git repository (or any of the parent directories): .git\n",
            "2025-03-28:12:10:05 INFO     [loggers.evaluation_tracker:272] Output path not provided, skipping saving results aggregated\n",
            "hf (pretrained=EleutherAI/gpt-neo-1.3B), gen_kwargs: (None), limit: 10.0, num_fewshot: 5, batch_size: 1\n",
            "|           Tasks            |Version|Filter|n-shot| Metric |   |Value|   |Stderr|\n",
            "|----------------------------|-------|------|-----:|--------|---|----:|---|-----:|\n",
            "|implicit_hate_classification|Yaml   |none  |     5|acc     |↑  |  0.5|±  |0.1667|\n",
            "|                            |       |none  |     5|acc_norm|↑  |  0.1|±  |0.1000|\n",
            "\n"
          ]
        }
      ],
      "source": [
        "!lm_eval \\\n",
        "    --model hf \\\n",
        "    --model_args pretrained=EleutherAI/gpt-neo-1.3B \\\n",
        "    --num_fewshot 5 \\\n",
        "    --include_path ./ \\\n",
        "    --tasks implicit_hate_classification \\\n",
        "    --limit 10"
      ]
    },
    {
      "cell_type": "markdown",
      "metadata": {
        "id": "IceW2KcDGmr1"
      },
      "source": [
        "With LLM-eval, you can switch between evaluation benchmarks by just creating a new YAML string for each dataset to use. In this case we can also use the toxigen dataset, a similar collection also tailored to implicit hate-speech detection."
      ]
    },
    {
      "cell_type": "code",
      "execution_count": 8,
      "metadata": {
        "id": "gArG2X2U92tD"
      },
      "outputs": [],
      "source": [
        "YAML_toxigen_string = '''\n",
        "task: toxigen\n",
        "dataset_path: skg/toxigen-data\n",
        "dataset_name: annotated\n",
        "output_type: multiple_choice\n",
        "training_split: train\n",
        "test_split: test\n",
        "doc_to_text: \"Is the following statement hateful? Respond with either Yes or No. Statement: '{{text}}'\"\n",
        "doc_to_target: !function utils.doc_to_target\n",
        "doc_to_choice: ['No', 'Yes']\n",
        "'''\n",
        "with open('toxigen.yaml', 'w') as f:\n",
        "    f.write(YAML_toxigen_string)"
      ]
    },
    {
      "cell_type": "markdown",
      "metadata": {
        "id": "A6R3hOkBHQ7U"
      },
      "source": [
        "However, the toxigen dataset requires for the users to accept its terms and conditions prior to using it, so we first have to log into the hugging-face API for access (this step may only work on google collab). To complete the process, create a huggingface account and follow the steps in the dialog box below"
      ]
    },
    {
      "cell_type": "code",
      "execution_count": null,
      "metadata": {
        "colab": {
          "base_uri": "https://localhost:8080/"
        },
        "id": "ukwl9jOtELWB",
        "outputId": "e700b720-45f3-41b9-a508-848ab37f19fe"
      },
      "outputs": [
        {
          "name": "stdout",
          "output_type": "stream",
          "text": [
            "\n",
            "    _|    _|  _|    _|    _|_|_|    _|_|_|  _|_|_|  _|      _|    _|_|_|      _|_|_|_|    _|_|      _|_|_|  _|_|_|_|\n",
            "    _|    _|  _|    _|  _|        _|          _|    _|_|    _|  _|            _|        _|    _|  _|        _|\n",
            "    _|_|_|_|  _|    _|  _|  _|_|  _|  _|_|    _|    _|  _|  _|  _|  _|_|      _|_|_|    _|_|_|_|  _|        _|_|_|\n",
            "    _|    _|  _|    _|  _|    _|  _|    _|    _|    _|    _|_|  _|    _|      _|        _|    _|  _|        _|\n",
            "    _|    _|    _|_|      _|_|_|    _|_|_|  _|_|_|  _|      _|    _|_|_|      _|        _|    _|    _|_|_|  _|_|_|_|\n",
            "\n",
            "    To login, `huggingface_hub` requires a token generated from https://huggingface.co/settings/tokens .\n",
            "Enter your token (input will not be visible): \n",
            "Add token as git credential? (Y/n) Y\n",
            "Token is valid (permission: read).\n",
            "\u001b[1m\u001b[31mCannot authenticate through git-credential as no helper is defined on your machine.\n",
            "You might have to re-authenticate when pushing to the Hugging Face Hub.\n",
            "Run the following command in your terminal in case you want to set the 'store' credential helper as default.\n",
            "\n",
            "git config --global credential.helper store\n",
            "\n",
            "Read https://git-scm.com/book/en/v2/Git-Tools-Credential-Storage for more details.\u001b[0m\n",
            "Token has not been saved to git credential helper.\n",
            "Your token has been saved to /root/.cache/huggingface/token\n",
            "Login successful\n"
          ]
        }
      ],
      "source": [
        "# !huggingface-cli login"
      ]
    },
    {
      "cell_type": "code",
      "execution_count": 9,
      "metadata": {
        "colab": {
          "base_uri": "https://localhost:8080/"
        },
        "id": "rgNXCcz7Cukr",
        "outputId": "a2dd6cad-d145-4434-f783-6cdcba132fd9"
      },
      "outputs": [
        {
          "name": "stdout",
          "output_type": "stream",
          "text": [
            "2025-03-28 12:10:14.163524: E external/local_xla/xla/stream_executor/cuda/cuda_fft.cc:477] Unable to register cuFFT factory: Attempting to register factory for plugin cuFFT when one has already been registered\n",
            "WARNING: All log messages before absl::InitializeLog() is called are written to STDERR\n",
            "E0000 00:00:1743163814.183921    2565 cuda_dnn.cc:8310] Unable to register cuDNN factory: Attempting to register factory for plugin cuDNN when one has already been registered\n",
            "E0000 00:00:1743163814.190036    2565 cuda_blas.cc:1418] Unable to register cuBLAS factory: Attempting to register factory for plugin cuBLAS when one has already been registered\n",
            "2025-03-28:12:10:18 INFO     [__main__:338] Including path: ./\n",
            "2025-03-28:12:10:22 WARNING  [__main__:359]  --limit SHOULD ONLY BE USED FOR TESTING.REAL METRICS SHOULD NOT BE COMPUTED USING LIMIT.\n",
            "2025-03-28:12:10:22 INFO     [__main__:422] Selected Tasks: ['toxigen']\n",
            "2025-03-28:12:10:22 INFO     [evaluator:180] Setting random seed to 0 | Setting numpy seed to 1234 | Setting torch manual seed to 1234 | Setting fewshot manual seed to 1234\n",
            "2025-03-28:12:10:22 INFO     [evaluator:218] Initializing hf model, with arguments: {'pretrained': 'distilbert/distilgpt2'}\n",
            "2025-03-28:12:10:22 INFO     [models.huggingface:136] Using device 'cuda'\n",
            "2025-03-28:12:10:22 INFO     [models.huggingface:377] Model parallel was set to False, max memory was not set, and device map was set to {'': 'cuda'}\n",
            "README.md: 100% 10.7k/10.7k [00:00<00:00, 43.1MB/s]\n",
            "test-00000-of-00001.parquet: 100% 79.7k/79.7k [00:00<00:00, 5.01MB/s]\n",
            "train-00000-of-00001.parquet: 100% 689k/689k [00:00<00:00, 27.2MB/s]\n",
            "Generating test split: 100% 940/940 [00:00<00:00, 12711.94 examples/s]\n",
            "Generating train split: 100% 8960/8960 [00:00<00:00, 456778.13 examples/s]\n",
            "2025-03-28:12:10:27 INFO     [api.task:426] Building contexts for toxigen on rank 0...\n",
            "100% 10/10 [00:00<00:00, 2155.01it/s]\n",
            "2025-03-28:12:10:27 INFO     [evaluator:542] Running loglikelihood requests\n",
            "Running loglikelihood requests: 100% 20/20 [00:00<00:00, 58.79it/s]\n",
            "fatal: not a git repository (or any of the parent directories): .git\n",
            "2025-03-28:12:10:29 INFO     [loggers.evaluation_tracker:272] Output path not provided, skipping saving results aggregated\n",
            "hf (pretrained=distilbert/distilgpt2), gen_kwargs: (None), limit: 10.0, num_fewshot: None, batch_size: 1\n",
            "| Tasks |Version|Filter|n-shot| Metric |   |Value|   |Stderr|\n",
            "|-------|------:|------|-----:|--------|---|----:|---|-----:|\n",
            "|toxigen|      1|none  |     0|acc     |↑  |  0.7|±  |0.1528|\n",
            "|       |       |none  |     0|acc_norm|↑  |  0.4|±  |0.1633|\n",
            "\n"
          ]
        }
      ],
      "source": [
        "!lm_eval \\\n",
        "    --model hf \\\n",
        "    --model_args pretrained=distilbert/distilgpt2 \\\n",
        "    --include_path ./ \\\n",
        "    --tasks toxigen \\\n",
        "    --limit 10"
      ]
    },
    {
      "cell_type": "code",
      "execution_count": 10,
      "metadata": {
        "colab": {
          "base_uri": "https://localhost:8080/"
        },
        "id": "-JF7pUZ3EuAs",
        "outputId": "c0089571-93b0-4ece-dd33-da6a1fe90872"
      },
      "outputs": [
        {
          "name": "stdout",
          "output_type": "stream",
          "text": [
            "2025-03-28 12:10:38.797069: E external/local_xla/xla/stream_executor/cuda/cuda_fft.cc:477] Unable to register cuFFT factory: Attempting to register factory for plugin cuFFT when one has already been registered\n",
            "WARNING: All log messages before absl::InitializeLog() is called are written to STDERR\n",
            "E0000 00:00:1743163838.818085    2727 cuda_dnn.cc:8310] Unable to register cuDNN factory: Attempting to register factory for plugin cuDNN when one has already been registered\n",
            "E0000 00:00:1743163838.824397    2727 cuda_blas.cc:1418] Unable to register cuBLAS factory: Attempting to register factory for plugin cuBLAS when one has already been registered\n",
            "2025-03-28:12:10:42 INFO     [__main__:338] Including path: ./\n",
            "2025-03-28:12:10:45 WARNING  [__main__:359]  --limit SHOULD ONLY BE USED FOR TESTING.REAL METRICS SHOULD NOT BE COMPUTED USING LIMIT.\n",
            "2025-03-28:12:10:45 INFO     [__main__:422] Selected Tasks: ['toxigen']\n",
            "2025-03-28:12:10:45 INFO     [evaluator:180] Setting random seed to 0 | Setting numpy seed to 1234 | Setting torch manual seed to 1234 | Setting fewshot manual seed to 1234\n",
            "2025-03-28:12:10:45 INFO     [evaluator:218] Initializing hf model, with arguments: {'pretrained': 'EleutherAI/gpt-neo-1.3B'}\n",
            "2025-03-28:12:10:45 INFO     [models.huggingface:136] Using device 'cuda'\n",
            "2025-03-28:12:10:45 INFO     [models.huggingface:377] Model parallel was set to False, max memory was not set, and device map was set to {'': 'cuda'}\n",
            "2025-03-28:12:10:52 INFO     [api.task:426] Building contexts for toxigen on rank 0...\n",
            "100% 10/10 [00:00<00:00, 2199.08it/s]\n",
            "2025-03-28:12:10:52 INFO     [evaluator:542] Running loglikelihood requests\n",
            "Running loglikelihood requests: 100% 20/20 [00:00<00:00, 23.61it/s]\n",
            "fatal: not a git repository (or any of the parent directories): .git\n",
            "2025-03-28:12:10:55 INFO     [loggers.evaluation_tracker:272] Output path not provided, skipping saving results aggregated\n",
            "hf (pretrained=EleutherAI/gpt-neo-1.3B), gen_kwargs: (None), limit: 10.0, num_fewshot: None, batch_size: 1\n",
            "| Tasks |Version|Filter|n-shot| Metric |   |Value|   |Stderr|\n",
            "|-------|------:|------|-----:|--------|---|----:|---|-----:|\n",
            "|toxigen|      1|none  |     0|acc     |↑  |  0.5|±  |0.1667|\n",
            "|       |       |none  |     0|acc_norm|↑  |  0.4|±  |0.1633|\n",
            "\n"
          ]
        }
      ],
      "source": [
        "!lm_eval \\\n",
        "    --model hf \\\n",
        "    --model_args pretrained=EleutherAI/gpt-neo-1.3B \\\n",
        "    --include_path ./ \\\n",
        "    --tasks toxigen \\\n",
        "    --limit 10"
      ]
    },
    {
      "cell_type": "markdown",
      "metadata": {
        "id": "XB1snwWcjSRj"
      },
      "source": [
        "And we can now run evaluation on this task, by pointing to the config file we've just created:"
      ]
    },
    {
      "cell_type": "markdown",
      "metadata": {
        "id": "MLx3U25OMpu1"
      },
      "source": [
        "**Challenge:** The two cells above perform zero-shot evaluation on the aforementioned dataset.\n",
        "\n",
        "Follow a similar approach to running both models (GPT-neo and distilgpt2) on a few-shot set-up:"
      ]
    },
    {
      "cell_type": "code",
      "execution_count": null,
      "metadata": {
        "id": "vxSbNnWmaQB3"
      },
      "outputs": [],
      "source": [
        "# !TODO: Run GPT-neo on a few-shot (5 examples) evaluation task:\n",
        "\n",
        "\n",
        "\n",
        "\n"
      ]
    },
    {
      "cell_type": "code",
      "execution_count": null,
      "metadata": {
        "id": "zxWWPE2paP3N"
      },
      "outputs": [],
      "source": [
        "# !TODO: Run distil-GPT on a few-shot (5 examples) evaluation task:\n",
        "\n",
        "\n",
        "\n",
        "\n"
      ]
    },
    {
      "cell_type": "markdown",
      "metadata": {
        "id": "q9D6uWRQjSRk"
      },
      "source": [
        "## Edit Prompt Templates Quickly\n",
        "\n",
        "The following is a yaml made to evaluate the specific subtask of `high_school_geography` from MMLU. It uses the standard prompt where the we choose the letters from the options with most likelihood as the model's prediction."
      ]
    },
    {
      "cell_type": "code",
      "execution_count": 20,
      "metadata": {
        "id": "GTFvdt9kSlBG"
      },
      "outputs": [],
      "source": [
        "YAML_mmlu_geo_string = '''\n",
        "task: demo_mmlu_high_school_geography\n",
        "dataset_path: cais/mmlu\n",
        "dataset_name: high_school_geography\n",
        "description: \"The following are multiple choice questions (with answers) about high school geography.\\n\\n\"\n",
        "test_split: test\n",
        "fewshot_split: dev\n",
        "fewshot_config:\n",
        "  sampler: first_n\n",
        "output_type: multiple_choice\n",
        "doc_to_text: \"{{question.strip()}}\\nA. {{choices[0]}}\\nB. {{choices[1]}}\\nC. {{choices[2]}}\\nD. {{choices[3]}}\\nAnswer:\"\n",
        "doc_to_choice: [\"A\", \"B\", \"C\", \"D\"]\n",
        "doc_to_target: answer\n",
        "metric_list:\n",
        "  - metric: acc\n",
        "    aggregation: mean\n",
        "    higher_is_better: true\n",
        "  - metric: acc_norm\n",
        "    aggregation: mean\n",
        "    higher_is_better: true\n",
        "'''\n",
        "with open('mmlu_high_school_geography.yaml', 'w') as f:\n",
        "    f.write(YAML_mmlu_geo_string)\n"
      ]
    },
    {
      "cell_type": "code",
      "execution_count": 21,
      "metadata": {
        "colab": {
          "base_uri": "https://localhost:8080/"
        },
        "id": "jyKOfCsKb-xy",
        "outputId": "84b18e10-17a8-47ed-9668-944d91f7c7f7"
      },
      "outputs": [
        {
          "name": "stdout",
          "output_type": "stream",
          "text": [
            "2025-03-28 12:24:16.807668: E external/local_xla/xla/stream_executor/cuda/cuda_fft.cc:477] Unable to register cuFFT factory: Attempting to register factory for plugin cuFFT when one has already been registered\n",
            "WARNING: All log messages before absl::InitializeLog() is called are written to STDERR\n",
            "E0000 00:00:1743164656.828043    6238 cuda_dnn.cc:8310] Unable to register cuDNN factory: Attempting to register factory for plugin cuDNN when one has already been registered\n",
            "E0000 00:00:1743164656.834493    6238 cuda_blas.cc:1418] Unable to register cuBLAS factory: Attempting to register factory for plugin cuBLAS when one has already been registered\n",
            "2025-03-28:12:24:21 INFO     [__main__:338] Including path: ./\n",
            "2025-03-28:12:24:23 WARNING  [__main__:359]  --limit SHOULD ONLY BE USED FOR TESTING.REAL METRICS SHOULD NOT BE COMPUTED USING LIMIT.\n",
            "2025-03-28:12:24:23 INFO     [__main__:422] Selected Tasks: ['demo_mmlu_high_school_geography']\n",
            "2025-03-28:12:24:23 INFO     [evaluator:180] Setting random seed to 0 | Setting numpy seed to 1234 | Setting torch manual seed to 1234 | Setting fewshot manual seed to 1234\n",
            "2025-03-28:12:24:23 INFO     [evaluator:218] Initializing hf model, with arguments: {'pretrained': 'EleutherAI/pythia-2.8b'}\n",
            "2025-03-28:12:24:23 INFO     [models.huggingface:136] Using device 'cuda'\n",
            "2025-03-28:12:24:24 INFO     [models.huggingface:377] Model parallel was set to False, max memory was not set, and device map was set to {'': 'cuda'}\n",
            "README.md: 100% 53.2k/53.2k [00:00<00:00, 8.89MB/s]\n",
            "dataset_infos.json: 100% 138k/138k [00:00<00:00, 22.5MB/s]\n",
            "test-00000-of-00001.parquet: 100% 28.2k/28.2k [00:00<00:00, 144MB/s]\n",
            "validation-00000-of-00001.parquet: 100% 6.16k/6.16k [00:00<00:00, 45.9MB/s]\n",
            "dev-00000-of-00001.parquet: 100% 3.93k/3.93k [00:00<00:00, 33.0MB/s]\n",
            "Generating test split: 100% 198/198 [00:00<00:00, 1567.31 examples/s]\n",
            "Generating validation split: 100% 22/22 [00:00<00:00, 10995.55 examples/s]\n",
            "Generating dev split: 100% 5/5 [00:00<00:00, 2687.62 examples/s]\n",
            "2025-03-28:12:24:30 INFO     [api.task:426] Building contexts for demo_mmlu_high_school_geography on rank 0...\n",
            "100% 10/10 [00:00<00:00, 703.36it/s]\n",
            "2025-03-28:12:24:30 INFO     [evaluator:542] Running loglikelihood requests\n",
            "Running loglikelihood requests: 100% 40/40 [00:01<00:00, 38.49it/s]\n",
            "fatal: not a git repository (or any of the parent directories): .git\n",
            "2025-03-28:12:24:33 INFO     [loggers.evaluation_tracker:209] Saving results aggregated\n",
            "2025-03-28:12:24:33 INFO     [loggers.evaluation_tracker:290] Saving per-sample results for: demo_mmlu_high_school_geography\n",
            "hf (pretrained=EleutherAI/pythia-2.8b), gen_kwargs: (None), limit: 10.0, num_fewshot: None, batch_size: 1\n",
            "|             Tasks             |Version|Filter|n-shot| Metric |   |Value|   |Stderr|\n",
            "|-------------------------------|-------|------|-----:|--------|---|----:|---|-----:|\n",
            "|demo_mmlu_high_school_geography|Yaml   |none  |     0|acc     |↑  |  0.2|±  |0.1333|\n",
            "|                               |       |none  |     0|acc_norm|↑  |  0.2|±  |0.1333|\n",
            "\n"
          ]
        }
      ],
      "source": [
        "# !accelerate launch --no_python\n",
        "!lm_eval \\\n",
        "    --model hf \\\n",
        "    --model_args pretrained=EleutherAI/pythia-2.8b \\\n",
        "    --include_path ./ \\\n",
        "    --tasks demo_mmlu_high_school_geography \\\n",
        "    --limit 10 \\\n",
        "    --output output/mmlu_high_school_geography/ \\\n",
        "    --log_samples"
      ]
    },
    {
      "cell_type": "markdown",
      "metadata": {
        "id": "NUhD2TjjjSRk"
      },
      "source": [
        "We could also evaluate this task in a different way. For example, instead of observing the loglikelihood of the letters, we can instead evaluate on the choices themselves as the continuation. This is done by simply changing `doc_to_choice` from a list of letters to the corresponding `choices` field from the HF dataset. We write `\"{{choices}}\"` so that the string field is interpreted as jinja string that acquires the list from the HF dataset directly.\n",
        "\n",
        "Another convenient feature here is since we're only modifying the `doc_to_choice` and the rest of config is the same as the task above, we can use the above configuration as a template by using `include: mmlu_high_school_geography.yaml` to load the config from that file. We'll need to add a unique task name as to not colide with the existing yaml config we're including. For this case we'll simply name this one `mmlu_high_school_geography_continuation`. `doc_to_text` is added here just for sake of clarity."
      ]
    },
    {
      "cell_type": "code",
      "execution_count": 22,
      "metadata": {
        "id": "lqElwU54TaK-"
      },
      "outputs": [],
      "source": [
        "YAML_mmlu_geo_string = '''\n",
        "include: mmlu_high_school_geography.yaml\n",
        "task: demo_mmlu_high_school_geography_continuation\n",
        "doc_to_text: \"{{question.strip()}}\\nA. {{choices[0]}}\\nB. {{choices[1]}}\\nC. {{choices[2]}}\\nD. {{choices[3]}}\\nAnswer:\"\n",
        "doc_to_choice: \"{{choices}}\"\n",
        "'''\n",
        "with open('mmlu_high_school_geography_continuation.yaml', 'w') as f:\n",
        "    f.write(YAML_mmlu_geo_string)\n"
      ]
    },
    {
      "cell_type": "code",
      "execution_count": 23,
      "metadata": {
        "colab": {
          "base_uri": "https://localhost:8080/"
        },
        "id": "-_CVnDirdy7j",
        "outputId": "bb801236-10bf-4e52-ab5f-a19e25eaab8e"
      },
      "outputs": [
        {
          "name": "stdout",
          "output_type": "stream",
          "text": [
            "2025-03-28 12:28:56.725037: E external/local_xla/xla/stream_executor/cuda/cuda_fft.cc:477] Unable to register cuFFT factory: Attempting to register factory for plugin cuFFT when one has already been registered\n",
            "WARNING: All log messages before absl::InitializeLog() is called are written to STDERR\n",
            "E0000 00:00:1743164936.745310    7446 cuda_dnn.cc:8310] Unable to register cuDNN factory: Attempting to register factory for plugin cuDNN when one has already been registered\n",
            "E0000 00:00:1743164936.751452    7446 cuda_blas.cc:1418] Unable to register cuBLAS factory: Attempting to register factory for plugin cuBLAS when one has already been registered\n",
            "2025-03-28:12:29:00 INFO     [__main__:338] Including path: ./\n",
            "2025-03-28:12:29:02 WARNING  [__main__:359]  --limit SHOULD ONLY BE USED FOR TESTING.REAL METRICS SHOULD NOT BE COMPUTED USING LIMIT.\n",
            "2025-03-28:12:29:02 INFO     [__main__:422] Selected Tasks: ['demo_mmlu_high_school_geography_continuation']\n",
            "2025-03-28:12:29:02 INFO     [evaluator:180] Setting random seed to 0 | Setting numpy seed to 1234 | Setting torch manual seed to 1234 | Setting fewshot manual seed to 1234\n",
            "2025-03-28:12:29:02 INFO     [evaluator:218] Initializing hf model, with arguments: {'pretrained': 'EleutherAI/pythia-2.8b'}\n",
            "2025-03-28:12:29:02 INFO     [models.huggingface:136] Using device 'cuda'\n",
            "2025-03-28:12:29:03 INFO     [models.huggingface:377] Model parallel was set to False, max memory was not set, and device map was set to {'': 'cuda'}\n",
            "2025-03-28:12:29:09 INFO     [api.task:426] Building contexts for demo_mmlu_high_school_geography_continuation on rank 0...\n",
            "100% 10/10 [00:00<00:00, 598.99it/s]\n",
            "2025-03-28:12:29:09 INFO     [evaluator:542] Running loglikelihood requests\n",
            "Running loglikelihood requests: 100% 40/40 [00:01<00:00, 24.24it/s]\n",
            "fatal: not a git repository (or any of the parent directories): .git\n",
            "2025-03-28:12:29:13 INFO     [loggers.evaluation_tracker:209] Saving results aggregated\n",
            "2025-03-28:12:29:13 INFO     [loggers.evaluation_tracker:290] Saving per-sample results for: demo_mmlu_high_school_geography_continuation\n",
            "hf (pretrained=EleutherAI/pythia-2.8b), gen_kwargs: (None), limit: 10.0, num_fewshot: None, batch_size: 1\n",
            "|                   Tasks                    |Version|Filter|n-shot| Metric |   |Value|   |Stderr|\n",
            "|--------------------------------------------|-------|------|-----:|--------|---|----:|---|-----:|\n",
            "|demo_mmlu_high_school_geography_continuation|Yaml   |none  |     0|acc     |↑  |  0.1|±  |0.1000|\n",
            "|                                            |       |none  |     0|acc_norm|↑  |  0.2|±  |0.1333|\n",
            "\n"
          ]
        }
      ],
      "source": [
        "# !accelerate launch --no_python\n",
        "!lm_eval \\\n",
        "    --model hf \\\n",
        "    --model_args pretrained=EleutherAI/pythia-2.8b \\\n",
        "    --include_path ./ \\\n",
        "    --tasks demo_mmlu_high_school_geography_continuation \\\n",
        "    --limit 10 \\\n",
        "    --output output/mmlu_high_school_geography_continuation/ \\\n",
        "    --log_samples\n"
      ]
    },
    {
      "cell_type": "markdown",
      "metadata": {
        "id": "SVpSM_vSjSRk"
      },
      "source": [
        "If we take a look at the samples, we can see that it is in fact evaluating the continuation based on the choices rather than the letters.\n",
        "\n",
        "Go to your output folder in google colab and paste the json file into the line below The file path should look something like\n",
        "`/content/output/mmlu_high_school_geography_continuation/EleutherAI__pythia-2.8b/samples_demo_mmlu_high_school_geography_continuation_2025-03-27T18-13-18.735917.jsonl`"
      ]
    },
    {
      "cell_type": "code",
      "execution_count": null,
      "metadata": {
        "id": "duBDqC6PAdjL",
        "outputId": "3da01039-a573-4519-a2ca-06d2ed4a4991"
      },
      "outputs": [
        {
          "data": {
            "application/javascript": "\n      ((filepath) => {{\n        if (!google.colab.kernel.accessAllowed) {{\n          return;\n        }}\n        google.colab.files.view(filepath);\n      }})(\"/content/output/mmlu_high_school_geography_continuation/pretrained__EleutherAI__pythia-2.8b_demo_mmlu_high_school_geography_continuation.jsonl\")",
            "text/plain": [
              "<IPython.core.display.Javascript object>"
            ]
          },
          "metadata": {},
          "output_type": "display_data"
        }
      ],
      "source": [
        "from google.colab import files\n",
        "files.view(\"/content/output/mmlu_high_school_geography_continuation/EleutherAI__pythia-2.8b/samples_demo_mmlu_high_school_geography_continuation_2025-03-29T14-20-43.644245.jsonl\")\n"
      ]
    },
    {
      "cell_type": "markdown",
      "metadata": {
        "id": "6p0-KPwAgK5j"
      },
      "source": [
        "## Closer Look at YAML Fields\n",
        "\n",
        "To prepare a task we can simply fill in a YAML config with the relevant information.\n",
        "\n",
        "`output_type`\n",
        "The current provided evaluation types comprise of the following:\n",
        "1.   `loglikelihood`: Evaluates the loglikelihood of a continuation, conditioned on some input string.\n",
        "2.   `loglikelihood_rolling`: evaluate the loglikelihood of producing a string, conditioned on the empty string. (Used for perplexity evaluations)\n",
        "3.   `multiple_choice`: Evaluates loglikelihood among the a number of choices predicted by the model.\n",
        "4.   `greedy_until`: Model outputs greedy generation (can be configured to to use beam search and other generation-related parameters)\n",
        "\n",
        "The core prompt revolves around 3 fields.\n",
        "1. `doc_to_text`: Denotes the prompt template that will be used as input to the model.\n",
        "2. `doc_to_choice`: Available choices that will be used as continuation for the model. This is used when the `output_type` is `multiple_choice`, and otherwise can be left as `None`.\n",
        "3. `doc_to_target`: When `output_type` is `multiple_choice`, this can be an index that corresponds to the correct answer, or the answer string itself (must be a subset of `doc_to_choice`). For other tasks, this is expected to be a string. You can fill this field with a feature name from the HF dataset so long as the resulting feature follows the conditioned described.\n",
        "\n",
        "These three fields can be expressed as strings, column names from the source dataset, or as Jinja2 templates that can use fields from the source dataset as variables.\n"
      ]
    },
    {
      "cell_type": "markdown",
      "metadata": {
        "id": "bc9DAshHjSRl"
      },
      "source": [
        "## What if Jinja is not Sufficient?\n",
        "\n",
        "There can be times where the Jinja2 templating language is not enough to make the prompt we had in mind. There are a few ways to circumvent this limitation:\n",
        "\n",
        "1. Use `!function` operator for the prompt-related fields to pass a python function that takes as input the dataset row, and will output the prompt template component.\n",
        "2. Perform a transformation on the dataset beforehand."
      ]
    },
    {
      "cell_type": "markdown",
      "metadata": {
        "id": "cDIJi4yijSRl"
      },
      "source": [
        "Below, we show an example of using `!function` to create `doc_to_text` from a python function:"
      ]
    },
    {
      "cell_type": "code",
      "execution_count": 24,
      "metadata": {
        "colab": {
          "base_uri": "https://localhost:8080/"
        },
        "id": "DYZ5c0JhR1lJ",
        "outputId": "05ff0177-76d5-4be4-a6a7-5390424fe089"
      },
      "outputs": [
        {
          "name": "stdout",
          "output_type": "stream",
          "text": [
            "2025-03-28 12:29:26.835691: E external/local_xla/xla/stream_executor/cuda/cuda_fft.cc:477] Unable to register cuFFT factory: Attempting to register factory for plugin cuFFT when one has already been registered\n",
            "WARNING: All log messages before absl::InitializeLog() is called are written to STDERR\n",
            "E0000 00:00:1743164966.857369    7643 cuda_dnn.cc:8310] Unable to register cuDNN factory: Attempting to register factory for plugin cuDNN when one has already been registered\n",
            "E0000 00:00:1743164966.863807    7643 cuda_blas.cc:1418] Unable to register cuBLAS factory: Attempting to register factory for plugin cuBLAS when one has already been registered\n",
            "2025-03-28:12:29:31 INFO     [__main__:338] Including path: ./\n",
            "2025-03-28:12:29:33 WARNING  [__main__:359]  --limit SHOULD ONLY BE USED FOR TESTING.REAL METRICS SHOULD NOT BE COMPUTED USING LIMIT.\n",
            "2025-03-28:12:29:33 INFO     [__main__:422] Selected Tasks: ['demo_mmlu_high_school_geography_function_prompt']\n",
            "2025-03-28:12:29:33 INFO     [evaluator:180] Setting random seed to 0 | Setting numpy seed to 1234 | Setting torch manual seed to 1234 | Setting fewshot manual seed to 1234\n",
            "2025-03-28:12:29:33 INFO     [evaluator:218] Initializing hf model, with arguments: {'pretrained': 'EleutherAI/pythia-2.8b'}\n",
            "2025-03-28:12:29:33 INFO     [models.huggingface:136] Using device 'cuda'\n",
            "2025-03-28:12:29:34 INFO     [models.huggingface:377] Model parallel was set to False, max memory was not set, and device map was set to {'': 'cuda'}\n",
            "2025-03-28:12:29:39 INFO     [api.task:426] Building contexts for demo_mmlu_high_school_geography_function_prompt on rank 0...\n",
            "100% 10/10 [00:00<00:00, 1445.36it/s]\n",
            "2025-03-28:12:29:39 INFO     [evaluator:542] Running loglikelihood requests\n",
            "Running loglikelihood requests: 100% 40/40 [00:01<00:00, 23.17it/s]\n",
            "fatal: not a git repository (or any of the parent directories): .git\n",
            "2025-03-28:12:29:44 INFO     [loggers.evaluation_tracker:209] Saving results aggregated\n",
            "2025-03-28:12:29:44 INFO     [loggers.evaluation_tracker:290] Saving per-sample results for: demo_mmlu_high_school_geography_function_prompt\n",
            "hf (pretrained=EleutherAI/pythia-2.8b), gen_kwargs: (None), limit: 10.0, num_fewshot: None, batch_size: 1\n",
            "|                     Tasks                     |Version|Filter|n-shot| Metric |   |Value|   |Stderr|\n",
            "|-----------------------------------------------|-------|------|-----:|--------|---|----:|---|-----:|\n",
            "|demo_mmlu_high_school_geography_function_prompt|Yaml   |none  |     0|acc     |↑  |  0.1|±  |0.1000|\n",
            "|                                               |       |none  |     0|acc_norm|↑  |  0.2|±  |0.1333|\n",
            "\n"
          ]
        }
      ],
      "source": [
        "YAML_mmlu_geo_string = '''\n",
        "include: mmlu_high_school_geography.yaml\n",
        "task: demo_mmlu_high_school_geography_function_prompt\n",
        "doc_to_text: !function utils.doc_to_text\n",
        "doc_to_choice: \"{{choices}}\"\n",
        "'''\n",
        "with open('demo_mmlu_high_school_geography_function_prompt.yaml', 'w') as f:\n",
        "    f.write(YAML_mmlu_geo_string)\n",
        "\n",
        "DOC_TO_TEXT = '''\n",
        "def doc_to_text(x):\n",
        "    question = x[\"question\"].strip()\n",
        "    choices = x[\"choices\"]\n",
        "    option_a = choices[0]\n",
        "    option_b = choices[1]\n",
        "    option_c = choices[2]\n",
        "    option_d = choices[3]\n",
        "    return f\"{question}\\\\nA. {option_a}\\\\nB. {option_b}\\\\nC. {option_c}\\\\nD. {option_d}\\\\nAnswer:\"\n",
        "'''\n",
        "with open('utils.py', 'w') as f:\n",
        "    f.write(DOC_TO_TEXT)\n",
        "\n",
        "!lm_eval \\\n",
        "    --model hf \\\n",
        "    --model_args pretrained=EleutherAI/pythia-2.8b \\\n",
        "    --include_path ./ \\\n",
        "    --tasks demo_mmlu_high_school_geography_function_prompt \\\n",
        "    --limit 10 \\\n",
        "    --output output/demo_mmlu_high_school_geography_function_prompt/ \\\n",
        "    --log_samples\n"
      ]
    },
    {
      "cell_type": "markdown",
      "metadata": {
        "id": "YUiHeJRijSRl"
      },
      "source": [
        "Next, we'll also show how to do this via preprocessing the dataset as necessary using the `process_docs` config field:\n",
        "\n",
        "We will write a function that will modify each document in our evaluation dataset's split to add a field that is suitable for us to use in `doc_to_text`."
      ]
    },
    {
      "cell_type": "code",
      "execution_count": 25,
      "metadata": {
        "colab": {
          "base_uri": "https://localhost:8080/"
        },
        "id": "iegEQrp0jSRl",
        "outputId": "91768161-082f-4615-aea7-e4b0e458431d"
      },
      "outputs": [
        {
          "name": "stdout",
          "output_type": "stream",
          "text": [
            "2025-03-28 12:29:51.408311: E external/local_xla/xla/stream_executor/cuda/cuda_fft.cc:477] Unable to register cuFFT factory: Attempting to register factory for plugin cuFFT when one has already been registered\n",
            "WARNING: All log messages before absl::InitializeLog() is called are written to STDERR\n",
            "E0000 00:00:1743164991.428835    7787 cuda_dnn.cc:8310] Unable to register cuDNN factory: Attempting to register factory for plugin cuDNN when one has already been registered\n",
            "E0000 00:00:1743164991.435207    7787 cuda_blas.cc:1418] Unable to register cuBLAS factory: Attempting to register factory for plugin cuBLAS when one has already been registered\n",
            "2025-03-28:12:29:56 INFO     [__main__:338] Including path: ./\n",
            "2025-03-28:12:29:58 WARNING  [__main__:359]  --limit SHOULD ONLY BE USED FOR TESTING.REAL METRICS SHOULD NOT BE COMPUTED USING LIMIT.\n",
            "2025-03-28:12:29:58 INFO     [__main__:422] Selected Tasks: ['demo_mmlu_high_school_geography_function_prompt_2']\n",
            "2025-03-28:12:29:58 INFO     [evaluator:180] Setting random seed to 0 | Setting numpy seed to 1234 | Setting torch manual seed to 1234 | Setting fewshot manual seed to 1234\n",
            "2025-03-28:12:29:58 INFO     [evaluator:218] Initializing hf model, with arguments: {'pretrained': 'EleutherAI/pythia-2.8b'}\n",
            "2025-03-28:12:29:58 INFO     [models.huggingface:136] Using device 'cuda'\n",
            "2025-03-28:12:29:58 INFO     [models.huggingface:377] Model parallel was set to False, max memory was not set, and device map was set to {'': 'cuda'}\n",
            "Map: 100% 5/5 [00:00<00:00, 1006.17 examples/s]\n",
            "Map: 100% 198/198 [00:00<00:00, 12627.87 examples/s]\n",
            "2025-03-28:12:30:03 INFO     [api.task:426] Building contexts for demo_mmlu_high_school_geography_function_prompt_2 on rank 0...\n",
            "100% 10/10 [00:00<00:00, 1022.73it/s]\n",
            "2025-03-28:12:30:03 INFO     [evaluator:542] Running loglikelihood requests\n",
            "Running loglikelihood requests: 100% 40/40 [00:00<00:00, 59.24it/s]\n",
            "fatal: not a git repository (or any of the parent directories): .git\n",
            "2025-03-28:12:30:07 INFO     [loggers.evaluation_tracker:209] Saving results aggregated\n",
            "2025-03-28:12:30:07 INFO     [loggers.evaluation_tracker:290] Saving per-sample results for: demo_mmlu_high_school_geography_function_prompt_2\n",
            "hf (pretrained=EleutherAI/pythia-2.8b), gen_kwargs: (None), limit: 10.0, num_fewshot: None, batch_size: 1\n",
            "|                      Tasks                      |Version|Filter|n-shot| Metric |   |Value|   |Stderr|\n",
            "|-------------------------------------------------|-------|------|-----:|--------|---|----:|---|-----:|\n",
            "|demo_mmlu_high_school_geography_function_prompt_2|Yaml   |none  |     0|acc     |↑  |  0.3|±  |0.1528|\n",
            "|                                                 |       |none  |     0|acc_norm|↑  |  0.3|±  |0.1528|\n",
            "\n"
          ]
        }
      ],
      "source": [
        "YAML_mmlu_geo_string = '''\n",
        "include: mmlu_high_school_geography.yaml\n",
        "task: demo_mmlu_high_school_geography_function_prompt_2\n",
        "process_docs: !function utils_process_docs.process_docs\n",
        "doc_to_text: \"{{input}}\"\n",
        "doc_to_choice: \"{{choices}}\"\n",
        "'''\n",
        "with open('demo_mmlu_high_school_geography_process_docs.yaml', 'w') as f:\n",
        "    f.write(YAML_mmlu_geo_string)\n",
        "\n",
        "DOC_TO_TEXT = '''\n",
        "def process_docs(dataset):\n",
        "    def _process_doc(x):\n",
        "        question = x[\"question\"].strip()\n",
        "        choices = x[\"choices\"]\n",
        "        option_a = choices[0]\n",
        "        option_b = choices[1]\n",
        "        option_c = choices[2]\n",
        "        option_d = choices[3]\n",
        "        # Create a new doc dictionary with processed fields\n",
        "        out_doc = {\n",
        "            \"input\": f\"{question}\\\\nA. {option_a}\\\\nB. {option_b}\\\\nC. {option_c}\\\\nD. {option_d}\\\\nAnswer:\",\n",
        "            \"choices\": [\"A\", \"B\", \"C\", \"D\"]\n",
        "        }\n",
        "        return out_doc\n",
        "    return dataset.map(_process_doc)\n",
        "'''\n",
        "\n",
        "with open('utils_process_docs.py', 'w') as f:\n",
        "    f.write(DOC_TO_TEXT)\n",
        "\n",
        "!lm_eval \\\n",
        "    --model hf \\\n",
        "    --model_args pretrained=EleutherAI/pythia-2.8b \\\n",
        "    --include_path ./ \\\n",
        "    --tasks demo_mmlu_high_school_geography_function_prompt_2 \\\n",
        "    --limit 10 \\\n",
        "    --output output/demo_mmlu_high_school_geography_function_prompt_2/ \\\n",
        "    --log_samples\n"
      ]
    },
    {
      "cell_type": "markdown",
      "metadata": {
        "id": "D7WobNoYjSRl"
      },
      "source": [
        "**Challenge:** The wino bias dataset contains a collection of occupation-related sentences with missing pronouns. A model would have to predict which pronoun (him or her) would be the biased and non-biased options (for more information on the dataset visit https://huggingface.co/datasets/sasha/wino_bias_prompt2).\n",
        "\n",
        "However, this dataset requires of pre-procesing prior to being used in conjunction the LLM-eval harness. Use the techniques learned above to do so."
      ]
    },
    {
      "cell_type": "code",
      "execution_count": null,
      "metadata": {
        "id": "aDGXvVvEJm1J"
      },
      "outputs": [],
      "source": [
        "YAML_winobias_string = '''\n",
        "task: wino_bias\n",
        "dataset_path: sasha/wino_bias_prompt2\n",
        "output_type: multiple_choice\n",
        "validation_split: validation\n",
        "test_split: test\n",
        "doc_to_text: \"Statement: {{prompt_phrase}}\"\n",
        "doc_to_choice: ['anti_bias_pronoun', 'bias_pronoun']\n",
        "'''\n",
        "with open('wino-bias.yaml', 'w') as f:\n",
        "    f.write(YAML_winobias_string)"
      ]
    },
    {
      "cell_type": "code",
      "execution_count": null,
      "metadata": {
        "id": "64Bz1nuuMO4T"
      },
      "outputs": [],
      "source": [
        "# !TODO: pre-process the wino_bias dataset using the techniques shown above:\n",
        "\n",
        "\n"
      ]
    },
    {
      "cell_type": "markdown",
      "metadata": {
        "id": "J3t_Hs4GJqdO"
      },
      "source": [
        "Once you have successfully pre-processed the wino bias dataset, you can run evaluation on the model of your choice by running the code below .We are using the same two architectures as an example but feel free to explore other options!"
      ]
    },
    {
      "cell_type": "code",
      "execution_count": null,
      "metadata": {
        "id": "QpA_8i5kJoft"
      },
      "outputs": [],
      "source": [
        "!lm_eval \\\n",
        "    --model hf \\\n",
        "    --model_args pretrained=EleutherAI/gpt-neo-1.3B \\\n",
        "    --include_path ./ \\\n",
        "    --tasks wino_bias \\\n",
        "    --limit 10"
      ]
    },
    {
      "cell_type": "code",
      "execution_count": null,
      "metadata": {
        "id": "3CFWvjjPLbx1"
      },
      "outputs": [],
      "source": [
        "!lm_eval \\\n",
        "    --model hf \\\n",
        "    --model_args pretrained=distilbert/distilgpt2 \\\n",
        "    --include_path ./ \\\n",
        "    --tasks wino_bias_prompt \\\n",
        "    --limit 10"
      ]
    }
  ],
  "metadata": {
    "accelerator": "GPU",
    "colab": {
      "gpuType": "T4",
      "provenance": []
    },
    "kernelspec": {
      "display_name": "nlp24",
      "language": "python",
      "name": "python3"
    },
    "language_info": {
      "codemirror_mode": {
        "name": "ipython",
        "version": 3
      },
      "file_extension": ".py",
      "mimetype": "text/x-python",
      "name": "python",
      "nbconvert_exporter": "python",
      "pygments_lexer": "ipython3",
      "version": "3.10.13"
    }
  },
  "nbformat": 4,
  "nbformat_minor": 0
}
